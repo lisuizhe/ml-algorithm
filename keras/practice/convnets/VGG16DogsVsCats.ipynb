{
 "cells": [
  {
   "cell_type": "code",
   "execution_count": 17,
   "metadata": {},
   "outputs": [
    {
     "name": "stdout",
     "output_type": "stream",
     "text": [
      "GPU found\n"
     ]
    }
   ],
   "source": [
    "import os\n",
    "import tensorflow as tf\n",
    "\n",
    "#os.environ['CUDA_VISIBLE_DEVICES'] = '-1'\n",
    "\n",
    "if tf.test.gpu_device_name():\n",
    "    print('GPU found')\n",
    "else:\n",
    "    print(\"No GPU found\")"
   ]
  },
  {
   "cell_type": "code",
   "execution_count": 18,
   "metadata": {},
   "outputs": [],
   "source": [
    "from keras.applications import VGG16\n",
    "\n",
    "conv_base = VGG16(weights='imagenet',\n",
    "                  include_top=False,\n",
    "                  input_shape=(150, 150, 3))"
   ]
  },
  {
   "cell_type": "code",
   "execution_count": 19,
   "metadata": {},
   "outputs": [
    {
     "name": "stdout",
     "output_type": "stream",
     "text": [
      "_________________________________________________________________\n",
      "Layer (type)                 Output Shape              Param #   \n",
      "=================================================================\n",
      "input_3 (InputLayer)         (None, 150, 150, 3)       0         \n",
      "_________________________________________________________________\n",
      "block1_conv1 (Conv2D)        (None, 150, 150, 64)      1792      \n",
      "_________________________________________________________________\n",
      "block1_conv2 (Conv2D)        (None, 150, 150, 64)      36928     \n",
      "_________________________________________________________________\n",
      "block1_pool (MaxPooling2D)   (None, 75, 75, 64)        0         \n",
      "_________________________________________________________________\n",
      "block2_conv1 (Conv2D)        (None, 75, 75, 128)       73856     \n",
      "_________________________________________________________________\n",
      "block2_conv2 (Conv2D)        (None, 75, 75, 128)       147584    \n",
      "_________________________________________________________________\n",
      "block2_pool (MaxPooling2D)   (None, 37, 37, 128)       0         \n",
      "_________________________________________________________________\n",
      "block3_conv1 (Conv2D)        (None, 37, 37, 256)       295168    \n",
      "_________________________________________________________________\n",
      "block3_conv2 (Conv2D)        (None, 37, 37, 256)       590080    \n",
      "_________________________________________________________________\n",
      "block3_conv3 (Conv2D)        (None, 37, 37, 256)       590080    \n",
      "_________________________________________________________________\n",
      "block3_pool (MaxPooling2D)   (None, 18, 18, 256)       0         \n",
      "_________________________________________________________________\n",
      "block4_conv1 (Conv2D)        (None, 18, 18, 512)       1180160   \n",
      "_________________________________________________________________\n",
      "block4_conv2 (Conv2D)        (None, 18, 18, 512)       2359808   \n",
      "_________________________________________________________________\n",
      "block4_conv3 (Conv2D)        (None, 18, 18, 512)       2359808   \n",
      "_________________________________________________________________\n",
      "block4_pool (MaxPooling2D)   (None, 9, 9, 512)         0         \n",
      "_________________________________________________________________\n",
      "block5_conv1 (Conv2D)        (None, 9, 9, 512)         2359808   \n",
      "_________________________________________________________________\n",
      "block5_conv2 (Conv2D)        (None, 9, 9, 512)         2359808   \n",
      "_________________________________________________________________\n",
      "block5_conv3 (Conv2D)        (None, 9, 9, 512)         2359808   \n",
      "_________________________________________________________________\n",
      "block5_pool (MaxPooling2D)   (None, 4, 4, 512)         0         \n",
      "=================================================================\n",
      "Total params: 14,714,688\n",
      "Trainable params: 14,714,688\n",
      "Non-trainable params: 0\n",
      "_________________________________________________________________\n"
     ]
    }
   ],
   "source": [
    "conv_base.summary()"
   ]
  },
  {
   "cell_type": "code",
   "execution_count": 20,
   "metadata": {},
   "outputs": [
    {
     "name": "stdout",
     "output_type": "stream",
     "text": [
      "Found 2000 images belonging to 2 classes.\n",
      "Found 1000 images belonging to 2 classes.\n",
      "Found 1000 images belonging to 2 classes.\n"
     ]
    }
   ],
   "source": [
    "import os \n",
    "import numpy as np\n",
    "from keras.preprocessing.image import ImageDataGenerator\n",
    "\n",
    "base_dir = r'D:\\git\\kaggle\\dogs-vs-cats-small'\n",
    "train_dir = os.path.join(base_dir, 'train')\n",
    "validation_dir = os.path.join(base_dir, 'validation')\n",
    "test_dir = os.path.join(base_dir, 'test')\n",
    "\n",
    "datagen = ImageDataGenerator(rescale=1.0/255)\n",
    "batch_size = 20\n",
    "\n",
    "def extract_features(directory, sample_count):\n",
    "    features = np.zeros(shape=(sample_count, 4, 4, 512))\n",
    "    labels = np.zeros(shape=(sample_count))\n",
    "    generator = datagen.flow_from_directory(\n",
    "        directory,\n",
    "        target_size=(150, 150),\n",
    "        batch_size=batch_size,\n",
    "        class_mode='binary')\n",
    "    i = 0\n",
    "    for inputs_batch, labels_batch in generator:\n",
    "        features_batch = conv_base.predict(inputs_batch)\n",
    "        features[i * batch_size : (i + 1) * batch_size] = features_batch\n",
    "        labels[i * batch_size : (i + 1) * batch_size] = labels_batch\n",
    "        i += 1\n",
    "        if i * batch_size >= sample_count:\n",
    "            break\n",
    "    return features, labels\n",
    "\n",
    "train_features, train_labels = extract_features(train_dir, 2000)\n",
    "validation_features, validation_labels = extract_features(validation_dir, 1000)\n",
    "test_features, test_labels = extract_features(test_dir, 1000)"
   ]
  },
  {
   "cell_type": "code",
   "execution_count": 21,
   "metadata": {},
   "outputs": [],
   "source": [
    "train_features = np.reshape(train_features, (2000, 4 * 4 * 512))\n",
    "validation_features = np.reshape(validation_features, (1000, 4 * 4 * 512))\n",
    "test_features = np.reshape(test_features, (1000, 4 * 4 * 512))"
   ]
  },
  {
   "cell_type": "code",
   "execution_count": 22,
   "metadata": {},
   "outputs": [
    {
     "name": "stdout",
     "output_type": "stream",
     "text": [
      "Train on 2000 samples, validate on 1000 samples\n",
      "Epoch 1/30\n",
      "2000/2000 [==============================] - 2s 1ms/step - loss: 0.5844 - acc: 0.6850 - val_loss: 0.4379 - val_acc: 0.8410\n",
      "Epoch 2/30\n",
      "2000/2000 [==============================] - 2s 759us/step - loss: 0.4190 - acc: 0.8130 - val_loss: 0.3627 - val_acc: 0.8480\n",
      "Epoch 3/30\n",
      "2000/2000 [==============================] - 2s 832us/step - loss: 0.3566 - acc: 0.8505 - val_loss: 0.3195 - val_acc: 0.8790\n",
      "Epoch 4/30\n",
      "2000/2000 [==============================] - 2s 778us/step - loss: 0.3121 - acc: 0.8695 - val_loss: 0.2957 - val_acc: 0.8910\n",
      "Epoch 5/30\n",
      "2000/2000 [==============================] - 2s 778us/step - loss: 0.2889 - acc: 0.8785 - val_loss: 0.2824 - val_acc: 0.8950\n",
      "Epoch 6/30\n",
      "2000/2000 [==============================] - 2s 811us/step - loss: 0.2701 - acc: 0.8920 - val_loss: 0.2738 - val_acc: 0.8910\n",
      "Epoch 7/30\n",
      "2000/2000 [==============================] - 2s 825us/step - loss: 0.2502 - acc: 0.8990 - val_loss: 0.2638 - val_acc: 0.8950\n",
      "Epoch 8/30\n",
      "2000/2000 [==============================] - 2s 960us/step - loss: 0.2326 - acc: 0.9080 - val_loss: 0.2604 - val_acc: 0.8950\n",
      "Epoch 9/30\n",
      "2000/2000 [==============================] - 2s 781us/step - loss: 0.2212 - acc: 0.9165 - val_loss: 0.2532 - val_acc: 0.9000\n",
      "Epoch 10/30\n",
      "2000/2000 [==============================] - 2s 833us/step - loss: 0.2048 - acc: 0.9225 - val_loss: 0.2486 - val_acc: 0.9040\n",
      "Epoch 11/30\n",
      "2000/2000 [==============================] - 2s 1ms/step - loss: 0.1972 - acc: 0.9265 - val_loss: 0.2527 - val_acc: 0.8970\n",
      "Epoch 12/30\n",
      "2000/2000 [==============================] - 2s 785us/step - loss: 0.1917 - acc: 0.9260 - val_loss: 0.2459 - val_acc: 0.9010\n",
      "Epoch 13/30\n",
      "2000/2000 [==============================] - 2s 962us/step - loss: 0.1822 - acc: 0.9305 - val_loss: 0.2410 - val_acc: 0.9060\n",
      "Epoch 14/30\n",
      "2000/2000 [==============================] - 2s 879us/step - loss: 0.1709 - acc: 0.9380 - val_loss: 0.2396 - val_acc: 0.9050\n",
      "Epoch 15/30\n",
      "2000/2000 [==============================] - 1s 698us/step - loss: 0.1698 - acc: 0.9380 - val_loss: 0.2599 - val_acc: 0.8880\n",
      "Epoch 16/30\n",
      "2000/2000 [==============================] - 1s 651us/step - loss: 0.1619 - acc: 0.9410 - val_loss: 0.2393 - val_acc: 0.9050\n",
      "Epoch 17/30\n",
      "2000/2000 [==============================] - 1s 691us/step - loss: 0.1538 - acc: 0.9460 - val_loss: 0.2373 - val_acc: 0.9020\n",
      "Epoch 18/30\n",
      "2000/2000 [==============================] - 1s 647us/step - loss: 0.1462 - acc: 0.9490 - val_loss: 0.2399 - val_acc: 0.9020\n",
      "Epoch 19/30\n",
      "2000/2000 [==============================] - 1s 640us/step - loss: 0.1395 - acc: 0.9515 - val_loss: 0.2366 - val_acc: 0.9060\n",
      "Epoch 20/30\n",
      "2000/2000 [==============================] - 1s 633us/step - loss: 0.1305 - acc: 0.9560 - val_loss: 0.2367 - val_acc: 0.9020\n",
      "Epoch 21/30\n",
      "2000/2000 [==============================] - 1s 631us/step - loss: 0.1286 - acc: 0.9560 - val_loss: 0.2489 - val_acc: 0.8970\n",
      "Epoch 22/30\n",
      "2000/2000 [==============================] - 1s 665us/step - loss: 0.1240 - acc: 0.9565 - val_loss: 0.2368 - val_acc: 0.9040\n",
      "Epoch 23/30\n",
      "2000/2000 [==============================] - 1s 674us/step - loss: 0.1207 - acc: 0.9575 - val_loss: 0.2393 - val_acc: 0.9050\n",
      "Epoch 24/30\n",
      "2000/2000 [==============================] - 1s 654us/step - loss: 0.1124 - acc: 0.9620 - val_loss: 0.2415 - val_acc: 0.9010\n",
      "Epoch 25/30\n",
      "2000/2000 [==============================] - 1s 628us/step - loss: 0.1100 - acc: 0.9655 - val_loss: 0.2358 - val_acc: 0.9050\n",
      "Epoch 26/30\n",
      "2000/2000 [==============================] - 1s 631us/step - loss: 0.1064 - acc: 0.9635 - val_loss: 0.2405 - val_acc: 0.9040\n",
      "Epoch 27/30\n",
      "2000/2000 [==============================] - 1s 631us/step - loss: 0.1003 - acc: 0.9700 - val_loss: 0.2465 - val_acc: 0.8970\n",
      "Epoch 28/30\n",
      "2000/2000 [==============================] - 1s 625us/step - loss: 0.0968 - acc: 0.9685 - val_loss: 0.2371 - val_acc: 0.9050\n",
      "Epoch 29/30\n",
      "2000/2000 [==============================] - 1s 633us/step - loss: 0.0936 - acc: 0.9705 - val_loss: 0.2379 - val_acc: 0.9050\n",
      "Epoch 30/30\n",
      "2000/2000 [==============================] - 1s 630us/step - loss: 0.0893 - acc: 0.9725 - val_loss: 0.2510 - val_acc: 0.8970\n"
     ]
    }
   ],
   "source": [
    "from keras import models\n",
    "from keras import layers\n",
    "from keras import optimizers\n",
    "\n",
    "model = models.Sequential()\n",
    "model.add(layers.Dense(256, activation='relu', input_dim=4*4*512))\n",
    "model.add(layers.Dropout(0.5))\n",
    "model.add(layers.Dense(1, activation='sigmoid'))\n",
    "\n",
    "model.compile(optimizer=optimizers.RMSprop(lr=2e-5),\n",
    "              loss='binary_crossentropy',\n",
    "              metrics=['acc'])\n",
    "\n",
    "history = model.fit(train_features, train_labels,\n",
    "                    epochs=30,\n",
    "                    batch_size=20,\n",
    "                    validation_data=(validation_features, validation_labels))"
   ]
  },
  {
   "cell_type": "code",
   "execution_count": 26,
   "metadata": {},
   "outputs": [
    {
     "data": {
      "image/png": "[encoded data removed]",
      "text/plain": [
       "<Figure size 432x288 with 1 Axes>"
      ]
     },
     "metadata": {
      "needs_background": "light"
     },
     "output_type": "display_data"
    },
    {
     "data": {
      "image/png": "[encoded data removed]",
      "text/plain": [
       "<Figure size 432x288 with 1 Axes>"
      ]
     },
     "metadata": {
      "needs_background": "light"
     },
     "output_type": "display_data"
    }
   ],
   "source": [
    "import matplotlib.pyplot as plt\n",
    "\n",
    "acc = history.history['acc']\n",
    "val_acc = history.history['val_acc']\n",
    "loss = history.history['loss']\n",
    "val_loss = history.history['val_loss']\n",
    "epochs = range(1, len(acc)+1)\n",
    "\n",
    "plt.plot(epochs, acc, 'bo', label='Training acc')\n",
    "plt.plot(epochs, val_acc, 'b', label='Validation acc')\n",
    "plt.title('Training and validation accuracy')\n",
    "plt.legend()\n",
    "\n",
    "plt.figure()\n",
    "\n",
    "plt.plot(epochs, loss, 'bo', label='Training loss')\n",
    "plt.plot(epochs, val_loss, 'b', label='Validation loss')\n",
    "plt.title('Training and validation loss')\n",
    "plt.legend()\n",
    "\n",
    "plt.show()"
   ]
  },
  {
   "cell_type": "code",
   "execution_count": 27,
   "metadata": {},
   "outputs": [
    {
     "name": "stdout",
     "output_type": "stream",
     "text": [
      "_________________________________________________________________\n",
      "Layer (type)                 Output Shape              Param #   \n",
      "=================================================================\n",
      "vgg16 (Model)                (None, 4, 4, 512)         14714688  \n",
      "_________________________________________________________________\n",
      "flatten_2 (Flatten)          (None, 8192)              0         \n",
      "_________________________________________________________________\n",
      "dense_7 (Dense)              (None, 256)               2097408   \n",
      "_________________________________________________________________\n",
      "dense_8 (Dense)              (None, 1)                 257       \n",
      "=================================================================\n",
      "Total params: 16,812,353\n",
      "Trainable params: 9,177,089\n",
      "Non-trainable params: 7,635,264\n",
      "_________________________________________________________________\n"
     ]
    }
   ],
   "source": [
    "from keras import models\n",
    "from keras import layers\n",
    "from keras import optimizers\n",
    "\n",
    "model = models.Sequential()\n",
    "model.add(conv_base)\n",
    "model.add(layers.Flatten())\n",
    "model.add(layers.Dense(256, activation='relu'))\n",
    "model.add(layers.Dense(1, activation='sigmoid'))\n",
    "\n",
    "model.summary()"
   ]
  },
  {
   "cell_type": "code",
   "execution_count": 28,
   "metadata": {},
   "outputs": [
    {
     "name": "stdout",
     "output_type": "stream",
     "text": [
      "_________________________________________________________________\n",
      "Layer (type)                 Output Shape              Param #   \n",
      "=================================================================\n",
      "vgg16 (Model)                (None, 4, 4, 512)         14714688  \n",
      "_________________________________________________________________\n",
      "flatten_2 (Flatten)          (None, 8192)              0         \n",
      "_________________________________________________________________\n",
      "dense_7 (Dense)              (None, 256)               2097408   \n",
      "_________________________________________________________________\n",
      "dense_8 (Dense)              (None, 1)                 257       \n",
      "=================================================================\n",
      "Total params: 16,812,353\n",
      "Trainable params: 2,097,665\n",
      "Non-trainable params: 14,714,688\n",
      "_________________________________________________________________\n"
     ]
    }
   ],
   "source": [
    "conv_base.trainable = False\n",
    "model.summary()"
   ]
  },
  {
   "cell_type": "code",
   "execution_count": 29,
   "metadata": {},
   "outputs": [
    {
     "name": "stdout",
     "output_type": "stream",
     "text": [
      "Found 2000 images belonging to 2 classes.\n",
      "Found 1000 images belonging to 2 classes.\n",
      "Epoch 1/30\n",
      "100/100 [==============================] - 29s 293ms/step - loss: 0.5945 - acc: 0.6895 - val_loss: 0.4497 - val_acc: 0.8310\n",
      "Epoch 2/30\n",
      "100/100 [==============================] - 27s 268ms/step - loss: 0.4800 - acc: 0.7795 - val_loss: 0.3740 - val_acc: 0.8460\n",
      "Epoch 3/30\n",
      "100/100 [==============================] - 33s 334ms/step - loss: 0.4256 - acc: 0.8055 - val_loss: 0.3268 - val_acc: 0.8760\n",
      "Epoch 4/30\n",
      "100/100 [==============================] - 50s 503ms/step - loss: 0.4002 - acc: 0.8125 - val_loss: 0.3041 - val_acc: 0.8900\n",
      "Epoch 5/30\n",
      "100/100 [==============================] - 50s 504ms/step - loss: 0.3881 - acc: 0.8150 - val_loss: 0.2921 - val_acc: 0.8870\n",
      "Epoch 6/30\n",
      "100/100 [==============================] - 50s 504ms/step - loss: 0.3729 - acc: 0.8380 - val_loss: 0.2892 - val_acc: 0.8850\n",
      "Epoch 7/30\n",
      "100/100 [==============================] - 51s 508ms/step - loss: 0.3611 - acc: 0.8410 - val_loss: 0.2982 - val_acc: 0.8750\n",
      "Epoch 8/30\n",
      "100/100 [==============================] - 53s 534ms/step - loss: 0.3500 - acc: 0.8445 - val_loss: 0.2751 - val_acc: 0.8820\n",
      "Epoch 9/30\n",
      "100/100 [==============================] - 53s 528ms/step - loss: 0.3468 - acc: 0.8440 - val_loss: 0.2648 - val_acc: 0.8940\n",
      "Epoch 10/30\n",
      "100/100 [==============================] - 52s 522ms/step - loss: 0.3460 - acc: 0.8465 - val_loss: 0.2612 - val_acc: 0.8930\n",
      "Epoch 11/30\n",
      "100/100 [==============================] - 53s 530ms/step - loss: 0.3376 - acc: 0.8555 - val_loss: 0.2751 - val_acc: 0.8820\n",
      "Epoch 12/30\n",
      "100/100 [==============================] - 54s 535ms/step - loss: 0.3237 - acc: 0.8565 - val_loss: 0.2538 - val_acc: 0.8980\n",
      "Epoch 13/30\n",
      "100/100 [==============================] - 53s 535ms/step - loss: 0.3312 - acc: 0.8550 - val_loss: 0.2509 - val_acc: 0.9000\n",
      "Epoch 14/30\n",
      "100/100 [==============================] - 53s 525ms/step - loss: 0.3207 - acc: 0.8635 - val_loss: 0.2513 - val_acc: 0.9000\n",
      "Epoch 15/30\n",
      "100/100 [==============================] - 52s 521ms/step - loss: 0.3249 - acc: 0.8555 - val_loss: 0.2563 - val_acc: 0.8950\n",
      "Epoch 16/30\n",
      "100/100 [==============================] - 53s 532ms/step - loss: 0.3094 - acc: 0.8660 - val_loss: 0.2508 - val_acc: 0.8990\n",
      "Epoch 17/30\n",
      "100/100 [==============================] - 52s 523ms/step - loss: 0.3088 - acc: 0.8640 - val_loss: 0.2481 - val_acc: 0.9010\n",
      "Epoch 18/30\n",
      "100/100 [==============================] - 52s 515ms/step - loss: 0.3019 - acc: 0.8730 - val_loss: 0.2569 - val_acc: 0.8980\n",
      "Epoch 19/30\n",
      "100/100 [==============================] - 51s 512ms/step - loss: 0.3072 - acc: 0.8680 - val_loss: 0.2445 - val_acc: 0.8970\n",
      "Epoch 20/30\n",
      "100/100 [==============================] - 51s 506ms/step - loss: 0.2967 - acc: 0.8785 - val_loss: 0.2487 - val_acc: 0.8980\n",
      "Epoch 21/30\n",
      "100/100 [==============================] - 51s 506ms/step - loss: 0.2964 - acc: 0.8740 - val_loss: 0.2458 - val_acc: 0.8970\n",
      "Epoch 22/30\n",
      "100/100 [==============================] - 51s 506ms/step - loss: 0.3029 - acc: 0.8690 - val_loss: 0.2418 - val_acc: 0.9040\n",
      "Epoch 23/30\n",
      "100/100 [==============================] - 51s 509ms/step - loss: 0.2854 - acc: 0.8745 - val_loss: 0.2387 - val_acc: 0.9000\n",
      "Epoch 24/30\n",
      "100/100 [==============================] - 51s 507ms/step - loss: 0.2736 - acc: 0.8785 - val_loss: 0.2407 - val_acc: 0.8990\n",
      "Epoch 25/30\n",
      "100/100 [==============================] - 51s 507ms/step - loss: 0.2991 - acc: 0.8695 - val_loss: 0.2621 - val_acc: 0.8880\n",
      "Epoch 26/30\n",
      "100/100 [==============================] - 51s 507ms/step - loss: 0.2984 - acc: 0.8665 - val_loss: 0.2388 - val_acc: 0.9030\n",
      "Epoch 27/30\n",
      "100/100 [==============================] - 51s 507ms/step - loss: 0.2903 - acc: 0.8750 - val_loss: 0.2425 - val_acc: 0.8990\n",
      "Epoch 28/30\n",
      "100/100 [==============================] - 51s 507ms/step - loss: 0.2808 - acc: 0.8770 - val_loss: 0.2395 - val_acc: 0.8970\n",
      "Epoch 29/30\n",
      "100/100 [==============================] - 51s 512ms/step - loss: 0.2842 - acc: 0.8785 - val_loss: 0.2379 - val_acc: 0.9000\n",
      "Epoch 30/30\n",
      "100/100 [==============================] - 51s 509ms/step - loss: 0.2785 - acc: 0.8775 - val_loss: 0.2379 - val_acc: 0.9050\n"
     ]
    }
   ],
   "source": [
    "from keras.preprocessing.image import ImageDataGenerator\n",
    "from keras import optimizers\n",
    "\n",
    "train_datagen = ImageDataGenerator(\n",
    "    rescale=1.0/255,\n",
    "    rotation_range=40,\n",
    "    width_shift_range=0.2,\n",
    "    height_shift_range=0.2,\n",
    "    shear_range=0.2,\n",
    "    zoom_range=0.2,\n",
    "    horizontal_flip=True,\n",
    "    fill_mode='nearest')\n",
    "\n",
    "test_datagen = ImageDataGenerator(rescale=1.0/255)\n",
    "\n",
    "train_generator = train_datagen.flow_from_directory(\n",
    "    train_dir,\n",
    "    target_size=(150, 150),\n",
    "    batch_size=20,\n",
    "    class_mode='binary')\n",
    "\n",
    "validation_generator = test_datagen.flow_from_directory(\n",
    "    validation_dir,\n",
    "    target_size=(150, 150),\n",
    "    batch_size=20,\n",
    "    class_mode='binary')\n",
    "\n",
    "model.compile(loss='binary_crossentropy',\n",
    "              optimizer=optimizers.RMSprop(lr=2e-5),\n",
    "              metrics=['acc'])\n",
    "\n",
    "history = model.fit_generator(\n",
    "    train_generator,\n",
    "    steps_per_epoch=100,\n",
    "    epochs=30,\n",
    "    validation_data=validation_generator,\n",
    "    validation_steps=50)"
   ]
  },
  {
   "cell_type": "code",
   "execution_count": 30,
   "metadata": {},
   "outputs": [
    {
     "data": {
      "image/png": "[encoded data removed]",
      "text/plain": [
       "<Figure size 432x288 with 1 Axes>"
      ]
     },
     "metadata": {
      "needs_background": "light"
     },
     "output_type": "display_data"
    },
    {
     "data": {
      "image/png": "[encoded data removed]",
      "text/plain": [
       "<Figure size 432x288 with 1 Axes>"
      ]
     },
     "metadata": {
      "needs_background": "light"
     },
     "output_type": "display_data"
    }
   ],
   "source": [
    "import matplotlib.pyplot as plt\n",
    "\n",
    "acc = history.history['acc']\n",
    "val_acc = history.history['val_acc']\n",
    "loss = history.history['loss']\n",
    "val_loss = history.history['val_loss']\n",
    "epochs = range(1, len(acc)+1)\n",
    "\n",
    "plt.plot(epochs, acc, 'bo', label='Training acc')\n",
    "plt.plot(epochs, val_acc, 'b', label='Validation acc')\n",
    "plt.title('Training and validation accuracy')\n",
    "plt.legend()\n",
    "\n",
    "plt.figure()\n",
    "\n",
    "plt.plot(epochs, loss, 'bo', label='Training loss')\n",
    "plt.plot(epochs, val_loss, 'b', label='Validation loss')\n",
    "plt.title('Training and validation loss')\n",
    "plt.legend()\n",
    "\n",
    "plt.show()"
   ]
  },
  {
   "cell_type": "code",
   "execution_count": 31,
   "metadata": {},
   "outputs": [],
   "source": [
    "conv_base.trainable = True\n",
    "\n",
    "set_trainable = False\n",
    "for layer in conv_base.layers:\n",
    "    if layer.name == 'block5_conv1':\n",
    "        set_trainable = True\n",
    "    if set_trainable:\n",
    "        layer.trainable = True\n",
    "    else:\n",
    "        layer.trainable = False\n"
   ]
  },
  {
   "cell_type": "code",
   "execution_count": 32,
   "metadata": {},
   "outputs": [
    {
     "name": "stdout",
     "output_type": "stream",
     "text": [
      "Found 2000 images belonging to 2 classes.\n",
      "Found 1000 images belonging to 2 classes.\n",
      "Epoch 1/100\n",
      "100/100 [==============================] - 24s 237ms/step - loss: 0.3078 - acc: 0.8680 - val_loss: 0.2272 - val_acc: 0.9010\n",
      "Epoch 2/100\n",
      "100/100 [==============================] - 22s 219ms/step - loss: 0.2831 - acc: 0.8725 - val_loss: 0.2089 - val_acc: 0.9080\n",
      "Epoch 3/100\n",
      "100/100 [==============================] - 24s 238ms/step - loss: 0.2412 - acc: 0.9005 - val_loss: 0.1926 - val_acc: 0.9190\n",
      "Epoch 4/100\n",
      "100/100 [==============================] - 22s 220ms/step - loss: 0.2168 - acc: 0.9080 - val_loss: 0.1920 - val_acc: 0.9180\n",
      "Epoch 5/100\n",
      "100/100 [==============================] - 22s 221ms/step - loss: 0.2106 - acc: 0.9105 - val_loss: 0.1926 - val_acc: 0.9200\n",
      "Epoch 6/100\n",
      "100/100 [==============================] - 22s 223ms/step - loss: 0.1939 - acc: 0.9185 - val_loss: 0.1972 - val_acc: 0.9180\n",
      "Epoch 7/100\n",
      "100/100 [==============================] - 23s 230ms/step - loss: 0.1833 - acc: 0.9255 - val_loss: 0.1835 - val_acc: 0.9210\n",
      "Epoch 8/100\n",
      "100/100 [==============================] - 26s 262ms/step - loss: 0.1570 - acc: 0.9415 - val_loss: 0.2002 - val_acc: 0.9210\n",
      "Epoch 9/100\n",
      "100/100 [==============================] - 29s 286ms/step - loss: 0.1584 - acc: 0.9335 - val_loss: 0.1919 - val_acc: 0.9280\n",
      "Epoch 10/100\n",
      "100/100 [==============================] - 35s 352ms/step - loss: 0.1549 - acc: 0.9350 - val_loss: 0.2100 - val_acc: 0.9190\n",
      "Epoch 11/100\n",
      "100/100 [==============================] - 35s 355ms/step - loss: 0.1553 - acc: 0.9385 - val_loss: 0.1829 - val_acc: 0.9370\n",
      "Epoch 12/100\n",
      "100/100 [==============================] - 41s 408ms/step - loss: 0.1342 - acc: 0.9495 - val_loss: 0.1900 - val_acc: 0.9260\n",
      "Epoch 13/100\n",
      "100/100 [==============================] - 45s 454ms/step - loss: 0.1291 - acc: 0.9405 - val_loss: 0.1902 - val_acc: 0.9270\n",
      "Epoch 14/100\n",
      "100/100 [==============================] - 46s 459ms/step - loss: 0.1330 - acc: 0.9495 - val_loss: 0.1997 - val_acc: 0.9220\n",
      "Epoch 15/100\n",
      "100/100 [==============================] - 46s 461ms/step - loss: 0.1118 - acc: 0.9550 - val_loss: 0.1725 - val_acc: 0.9330\n",
      "Epoch 16/100\n",
      "100/100 [==============================] - 49s 493ms/step - loss: 0.1166 - acc: 0.9545 - val_loss: 0.1848 - val_acc: 0.9250\n",
      "Epoch 17/100\n",
      "100/100 [==============================] - 59s 591ms/step - loss: 0.1104 - acc: 0.9585 - val_loss: 0.1906 - val_acc: 0.9340\n",
      "Epoch 18/100\n",
      "100/100 [==============================] - 49s 495ms/step - loss: 0.1096 - acc: 0.9565 - val_loss: 0.2067 - val_acc: 0.9310\n",
      "Epoch 19/100\n",
      "100/100 [==============================] - 47s 472ms/step - loss: 0.1061 - acc: 0.9580 - val_loss: 0.1740 - val_acc: 0.9350\n",
      "Epoch 20/100\n",
      "100/100 [==============================] - 50s 499ms/step - loss: 0.1080 - acc: 0.9605 - val_loss: 0.1772 - val_acc: 0.9320\n",
      "Epoch 21/100\n",
      "100/100 [==============================] - 59s 590ms/step - loss: 0.0884 - acc: 0.9690 - val_loss: 0.1957 - val_acc: 0.9310\n",
      "Epoch 22/100\n",
      "100/100 [==============================] - 51s 509ms/step - loss: 0.0836 - acc: 0.9670 - val_loss: 0.1776 - val_acc: 0.9280\n",
      "Epoch 23/100\n",
      "100/100 [==============================] - 48s 477ms/step - loss: 0.0852 - acc: 0.9685 - val_loss: 0.1851 - val_acc: 0.9320\n",
      "Epoch 24/100\n",
      "100/100 [==============================] - 50s 505ms/step - loss: 0.0833 - acc: 0.9725 - val_loss: 0.2176 - val_acc: 0.9260\n",
      "Epoch 25/100\n",
      "100/100 [==============================] - 59s 590ms/step - loss: 0.0765 - acc: 0.9680 - val_loss: 0.2011 - val_acc: 0.9300\n",
      "Epoch 26/100\n",
      "100/100 [==============================] - 55s 553ms/step - loss: 0.0916 - acc: 0.9630 - val_loss: 0.1699 - val_acc: 0.9310\n",
      "Epoch 27/100\n",
      "100/100 [==============================] - 48s 475ms/step - loss: 0.0705 - acc: 0.9760 - val_loss: 0.2328 - val_acc: 0.9300\n",
      "Epoch 28/100\n",
      "100/100 [==============================] - 52s 520ms/step - loss: 0.0700 - acc: 0.9745 - val_loss: 0.2081 - val_acc: 0.9340\n",
      "Epoch 29/100\n",
      "100/100 [==============================] - 59s 590ms/step - loss: 0.0838 - acc: 0.9680 - val_loss: 0.1806 - val_acc: 0.9380\n",
      "Epoch 30/100\n",
      "100/100 [==============================] - 60s 595ms/step - loss: 0.0570 - acc: 0.9800 - val_loss: 0.1908 - val_acc: 0.9360\n",
      "Epoch 31/100\n",
      "100/100 [==============================] - 59s 590ms/step - loss: 0.0582 - acc: 0.9805 - val_loss: 0.1979 - val_acc: 0.9300\n",
      "Epoch 32/100\n",
      "100/100 [==============================] - 54s 543ms/step - loss: 0.0699 - acc: 0.9710 - val_loss: 0.1926 - val_acc: 0.9310\n",
      "Epoch 33/100\n",
      "100/100 [==============================] - 47s 473ms/step - loss: 0.0521 - acc: 0.9805 - val_loss: 0.2060 - val_acc: 0.9360\n",
      "Epoch 34/100\n",
      "100/100 [==============================] - 57s 565ms/step - loss: 0.0620 - acc: 0.9780 - val_loss: 0.2114 - val_acc: 0.9340\n",
      "Epoch 35/100\n",
      "100/100 [==============================] - 59s 593ms/step - loss: 0.0565 - acc: 0.9780 - val_loss: 0.2116 - val_acc: 0.9320\n",
      "Epoch 36/100\n",
      "100/100 [==============================] - 59s 590ms/step - loss: 0.0692 - acc: 0.9755 - val_loss: 0.2048 - val_acc: 0.9360\n",
      "Epoch 37/100\n",
      "100/100 [==============================] - 48s 479ms/step - loss: 0.0558 - acc: 0.9800 - val_loss: 0.1959 - val_acc: 0.9350\n",
      "Epoch 38/100\n",
      "100/100 [==============================] - 52s 525ms/step - loss: 0.0549 - acc: 0.9780 - val_loss: 0.2202 - val_acc: 0.9330\n",
      "Epoch 39/100\n",
      "100/100 [==============================] - 59s 590ms/step - loss: 0.0494 - acc: 0.9830 - val_loss: 0.2296 - val_acc: 0.9300\n",
      "Epoch 40/100\n",
      "100/100 [==============================] - 59s 590ms/step - loss: 0.0597 - acc: 0.9760 - val_loss: 0.2233 - val_acc: 0.9330\n",
      "Epoch 41/100\n",
      "100/100 [==============================] - 59s 591ms/step - loss: 0.0550 - acc: 0.9800 - val_loss: 0.2103 - val_acc: 0.9410\n",
      "Epoch 42/100\n",
      "100/100 [==============================] - 49s 491ms/step - loss: 0.0599 - acc: 0.9755 - val_loss: 0.1937 - val_acc: 0.9350\n",
      "Epoch 43/100\n",
      "100/100 [==============================] - 50s 503ms/step - loss: 0.0495 - acc: 0.9830 - val_loss: 0.1992 - val_acc: 0.9330\n",
      "Epoch 44/100\n",
      "100/100 [==============================] - 59s 592ms/step - loss: 0.0466 - acc: 0.9840 - val_loss: 0.2149 - val_acc: 0.9340\n",
      "Epoch 45/100\n",
      "100/100 [==============================] - 59s 591ms/step - loss: 0.0391 - acc: 0.9850 - val_loss: 0.2129 - val_acc: 0.9350\n",
      "Epoch 46/100\n",
      "100/100 [==============================] - 59s 591ms/step - loss: 0.0490 - acc: 0.9830 - val_loss: 0.2374 - val_acc: 0.9320\n",
      "Epoch 47/100\n",
      "100/100 [==============================] - 60s 596ms/step - loss: 0.0447 - acc: 0.9860 - val_loss: 0.2170 - val_acc: 0.9370\n",
      "Epoch 48/100\n",
      "100/100 [==============================] - 61s 611ms/step - loss: 0.0354 - acc: 0.9880 - val_loss: 0.2986 - val_acc: 0.9280\n",
      "Epoch 49/100\n",
      "100/100 [==============================] - 63s 635ms/step - loss: 0.0482 - acc: 0.9830 - val_loss: 0.2944 - val_acc: 0.9250\n",
      "Epoch 50/100\n",
      "100/100 [==============================] - 59s 588ms/step - loss: 0.0436 - acc: 0.9855 - val_loss: 0.2996 - val_acc: 0.9240\n",
      "Epoch 51/100\n",
      "100/100 [==============================] - 51s 511ms/step - loss: 0.0412 - acc: 0.9845 - val_loss: 0.2079 - val_acc: 0.9350\n",
      "Epoch 52/100\n",
      "100/100 [==============================] - 63s 634ms/step - loss: 0.0298 - acc: 0.9860 - val_loss: 0.1987 - val_acc: 0.9440\n",
      "Epoch 53/100\n",
      "100/100 [==============================] - 63s 635ms/step - loss: 0.0403 - acc: 0.9865 - val_loss: 0.2324 - val_acc: 0.9280\n",
      "Epoch 54/100\n",
      "100/100 [==============================] - 63s 634ms/step - loss: 0.0438 - acc: 0.9825 - val_loss: 0.2212 - val_acc: 0.9410\n",
      "Epoch 55/100\n",
      "100/100 [==============================] - 63s 634ms/step - loss: 0.0376 - acc: 0.9875 - val_loss: 0.2235 - val_acc: 0.9380\n",
      "Epoch 56/100\n",
      "100/100 [==============================] - 63s 634ms/step - loss: 0.0379 - acc: 0.9870 - val_loss: 0.2743 - val_acc: 0.9360\n",
      "Epoch 57/100\n",
      "100/100 [==============================] - 63s 634ms/step - loss: 0.0285 - acc: 0.9895 - val_loss: 0.2364 - val_acc: 0.9330\n",
      "Epoch 58/100\n",
      "100/100 [==============================] - 63s 635ms/step - loss: 0.0391 - acc: 0.9860 - val_loss: 0.2259 - val_acc: 0.9400\n",
      "Epoch 59/100\n",
      "100/100 [==============================] - 63s 634ms/step - loss: 0.0228 - acc: 0.9945 - val_loss: 0.2401 - val_acc: 0.9400\n",
      "Epoch 60/100\n"
     ]
    },
    {
     "name": "stdout",
     "output_type": "stream",
     "text": [
      "100/100 [==============================] - 63s 633ms/step - loss: 0.0358 - acc: 0.9870 - val_loss: 0.2911 - val_acc: 0.9330\n",
      "Epoch 61/100\n",
      "100/100 [==============================] - 60s 601ms/step - loss: 0.0371 - acc: 0.9865 - val_loss: 0.2445 - val_acc: 0.9410\n",
      "Epoch 62/100\n",
      "100/100 [==============================] - 54s 540ms/step - loss: 0.0367 - acc: 0.9860 - val_loss: 0.2417 - val_acc: 0.9370\n",
      "Epoch 63/100\n",
      "100/100 [==============================] - 50s 499ms/step - loss: 0.0293 - acc: 0.9900 - val_loss: 0.2671 - val_acc: 0.9330\n",
      "Epoch 64/100\n",
      "100/100 [==============================] - 61s 606ms/step - loss: 0.0300 - acc: 0.9870 - val_loss: 0.3208 - val_acc: 0.9320\n",
      "Epoch 65/100\n",
      "100/100 [==============================] - 59s 593ms/step - loss: 0.0356 - acc: 0.9885 - val_loss: 0.2392 - val_acc: 0.9390\n",
      "Epoch 66/100\n",
      "100/100 [==============================] - 59s 594ms/step - loss: 0.0264 - acc: 0.9905 - val_loss: 0.3242 - val_acc: 0.9310\n",
      "Epoch 67/100\n",
      "100/100 [==============================] - 59s 595ms/step - loss: 0.0294 - acc: 0.9905 - val_loss: 0.2053 - val_acc: 0.9360\n",
      "Epoch 68/100\n",
      "100/100 [==============================] - 59s 594ms/step - loss: 0.0236 - acc: 0.9920 - val_loss: 0.6562 - val_acc: 0.8900\n",
      "Epoch 69/100\n",
      "100/100 [==============================] - 59s 594ms/step - loss: 0.0279 - acc: 0.9910 - val_loss: 0.2386 - val_acc: 0.9430\n",
      "Epoch 70/100\n",
      "100/100 [==============================] - 59s 595ms/step - loss: 0.0332 - acc: 0.9870 - val_loss: 0.2405 - val_acc: 0.9380\n",
      "Epoch 71/100\n",
      "100/100 [==============================] - 59s 594ms/step - loss: 0.0285 - acc: 0.9920 - val_loss: 0.2554 - val_acc: 0.9420\n",
      "Epoch 72/100\n",
      "100/100 [==============================] - 60s 596ms/step - loss: 0.0199 - acc: 0.9940 - val_loss: 0.2934 - val_acc: 0.9380\n",
      "Epoch 73/100\n",
      "100/100 [==============================] - 60s 596ms/step - loss: 0.0268 - acc: 0.9885 - val_loss: 0.2411 - val_acc: 0.9410\n",
      "Epoch 74/100\n",
      "100/100 [==============================] - 49s 495ms/step - loss: 0.0220 - acc: 0.9905 - val_loss: 0.2657 - val_acc: 0.9340\n",
      "Epoch 75/100\n",
      "100/100 [==============================] - 55s 545ms/step - loss: 0.0182 - acc: 0.9930 - val_loss: 0.2771 - val_acc: 0.9350\n",
      "Epoch 76/100\n",
      "100/100 [==============================] - 59s 594ms/step - loss: 0.0362 - acc: 0.9885 - val_loss: 0.2506 - val_acc: 0.9330\n",
      "Epoch 77/100\n",
      "100/100 [==============================] - 60s 596ms/step - loss: 0.0188 - acc: 0.9935 - val_loss: 0.2549 - val_acc: 0.9380\n",
      "Epoch 78/100\n",
      "100/100 [==============================] - 59s 594ms/step - loss: 0.0298 - acc: 0.9920 - val_loss: 0.2616 - val_acc: 0.9370\n",
      "Epoch 79/100\n",
      "100/100 [==============================] - 59s 594ms/step - loss: 0.0240 - acc: 0.9915 - val_loss: 0.2316 - val_acc: 0.9390\n",
      "Epoch 80/100\n",
      "100/100 [==============================] - 59s 594ms/step - loss: 0.0188 - acc: 0.9950 - val_loss: 0.3070 - val_acc: 0.9360\n",
      "Epoch 81/100\n",
      "100/100 [==============================] - 60s 596ms/step - loss: 0.0233 - acc: 0.9925 - val_loss: 0.2207 - val_acc: 0.9470\n",
      "Epoch 82/100\n",
      "100/100 [==============================] - 59s 594ms/step - loss: 0.0234 - acc: 0.9920 - val_loss: 0.2905 - val_acc: 0.9360\n",
      "Epoch 83/100\n",
      "100/100 [==============================] - 59s 592ms/step - loss: 0.0251 - acc: 0.9915 - val_loss: 0.2482 - val_acc: 0.9430\n",
      "Epoch 84/100\n",
      "100/100 [==============================] - 59s 594ms/step - loss: 0.0253 - acc: 0.9915 - val_loss: 0.2344 - val_acc: 0.9390\n",
      "Epoch 85/100\n",
      "100/100 [==============================] - 59s 593ms/step - loss: 0.0167 - acc: 0.9945 - val_loss: 0.2553 - val_acc: 0.9390\n",
      "Epoch 86/100\n",
      "100/100 [==============================] - 59s 594ms/step - loss: 0.0230 - acc: 0.9895 - val_loss: 0.2734 - val_acc: 0.9360\n",
      "Epoch 87/100\n",
      "100/100 [==============================] - 59s 593ms/step - loss: 0.0177 - acc: 0.9930 - val_loss: 0.2909 - val_acc: 0.9310\n",
      "Epoch 88/100\n",
      "100/100 [==============================] - 59s 592ms/step - loss: 0.0187 - acc: 0.9930 - val_loss: 0.3026 - val_acc: 0.9320\n",
      "Epoch 89/100\n",
      "100/100 [==============================] - 59s 594ms/step - loss: 0.0242 - acc: 0.9950 - val_loss: 0.2924 - val_acc: 0.9380\n",
      "Epoch 90/100\n",
      "100/100 [==============================] - 59s 593ms/step - loss: 0.0282 - acc: 0.9885 - val_loss: 0.2649 - val_acc: 0.9430\n",
      "Epoch 91/100\n",
      "100/100 [==============================] - 59s 590ms/step - loss: 0.0177 - acc: 0.9935 - val_loss: 0.2629 - val_acc: 0.9410\n",
      "Epoch 92/100\n",
      "100/100 [==============================] - 59s 591ms/step - loss: 0.0191 - acc: 0.9930 - val_loss: 0.3703 - val_acc: 0.9340\n",
      "Epoch 93/100\n",
      "100/100 [==============================] - 59s 591ms/step - loss: 0.0206 - acc: 0.9940 - val_loss: 0.2653 - val_acc: 0.9350\n",
      "Epoch 94/100\n",
      "100/100 [==============================] - 59s 592ms/step - loss: 0.0197 - acc: 0.9935 - val_loss: 0.2604 - val_acc: 0.9390\n",
      "Epoch 95/100\n",
      "100/100 [==============================] - 59s 593ms/step - loss: 0.0215 - acc: 0.9920 - val_loss: 0.2565 - val_acc: 0.9460\n",
      "Epoch 96/100\n",
      "100/100 [==============================] - 59s 593ms/step - loss: 0.0183 - acc: 0.9940 - val_loss: 0.3865 - val_acc: 0.9210\n",
      "Epoch 97/100\n",
      "100/100 [==============================] - 59s 592ms/step - loss: 0.0192 - acc: 0.9945 - val_loss: 0.2825 - val_acc: 0.9400\n",
      "Epoch 98/100\n",
      "100/100 [==============================] - 59s 593ms/step - loss: 0.0220 - acc: 0.9910 - val_loss: 0.3935 - val_acc: 0.9310\n",
      "Epoch 99/100\n",
      "100/100 [==============================] - 59s 592ms/step - loss: 0.0142 - acc: 0.9950 - val_loss: 0.2737 - val_acc: 0.9360\n",
      "Epoch 100/100\n",
      "100/100 [==============================] - 60s 596ms/step - loss: 0.0125 - acc: 0.9950 - val_loss: 0.3377 - val_acc: 0.9380\n"
     ]
    }
   ],
   "source": [
    "train_datagen = ImageDataGenerator(\n",
    "    rescale=1.0/255,\n",
    "    rotation_range=40,\n",
    "    width_shift_range=0.2,\n",
    "    height_shift_range=0.2,\n",
    "    shear_range=0.2,\n",
    "    zoom_range=0.2,\n",
    "    horizontal_flip=True,\n",
    "    fill_mode='nearest')\n",
    "\n",
    "test_datagen = ImageDataGenerator(rescale=1.0/255)\n",
    "\n",
    "train_generator = train_datagen.flow_from_directory(\n",
    "    train_dir,\n",
    "    target_size=(150, 150),\n",
    "    batch_size=20,\n",
    "    class_mode='binary')\n",
    "\n",
    "validation_generator = test_datagen.flow_from_directory(\n",
    "    validation_dir,\n",
    "    target_size=(150, 150),\n",
    "    batch_size=20,\n",
    "    class_mode='binary')\n",
    "\n",
    "model.compile(loss='binary_crossentropy',\n",
    "              optimizer=optimizers.RMSprop(lr=1e-5),\n",
    "              metrics=['acc'])\n",
    "\n",
    "history = model.fit_generator(\n",
    "    train_generator,\n",
    "    steps_per_epoch=100,\n",
    "    epochs=100,\n",
    "    validation_data=validation_generator,\n",
    "    validation_steps=50)"
   ]
  },
  {
   "cell_type": "code",
   "execution_count": 33,
   "metadata": {},
   "outputs": [
    {
     "data": {
      "image/png": "[encoded data removed]",
      "text/plain": [
       "<Figure size 432x288 with 1 Axes>"
      ]
     },
     "metadata": {
      "needs_background": "light"
     },
     "output_type": "display_data"
    },
    {
     "data": {
      "image/png": "[encoded data removed]",
      "text/plain": [
       "<Figure size 432x288 with 1 Axes>"
      ]
     },
     "metadata": {
      "needs_background": "light"
     },
     "output_type": "display_data"
    }
   ],
   "source": [
    "acc = history.history['acc']\n",
    "val_acc = history.history['val_acc']\n",
    "loss = history.history['loss']\n",
    "val_loss = history.history['val_loss']\n",
    "epochs = range(1, len(acc)+1)\n",
    "\n",
    "plt.plot(epochs, acc, 'bo', label='Training acc')\n",
    "plt.plot(epochs, val_acc, 'b', label='Validation acc')\n",
    "plt.title('Training and validation accuracy')\n",
    "plt.legend()\n",
    "\n",
    "plt.figure()\n",
    "\n",
    "plt.plot(epochs, loss, 'bo', label='Training loss')\n",
    "plt.plot(epochs, val_loss, 'b', label='Validation loss')\n",
    "plt.title('Training and validation loss')\n",
    "plt.legend()\n",
    "\n",
    "plt.show()"
   ]
  },
  {
   "cell_type": "code",
   "execution_count": 34,
   "metadata": {},
   "outputs": [
    {
     "data": {
      "image/png": "[encoded data removed]",
      "text/plain": [
       "<Figure size 432x288 with 1 Axes>"
      ]
     },
     "metadata": {
      "needs_background": "light"
     },
     "output_type": "display_data"
    },
    {
     "data": {
      "image/png": "[encoded data removed]",
      "text/plain": [
       "<Figure size 432x288 with 1 Axes>"
      ]
     },
     "metadata": {
      "needs_background": "light"
     },
     "output_type": "display_data"
    }
   ],
   "source": [
    "def smooth_curve(points, factor=0.8):\n",
    "    smoothed_points = []\n",
    "    for point in points:\n",
    "        if smoothed_points:\n",
    "            previous = smoothed_points[-1]\n",
    "            smoothed_points.append(previous * factor + point + (1 - factor))\n",
    "        else:\n",
    "            smoothed_points.append(point)\n",
    "    return smoothed_points\n",
    "\n",
    "plt.plot(epochs, smooth_curve(acc), 'bo', label='Training acc')\n",
    "plt.plot(epochs, smooth_curve(val_acc), 'b', label='Validation acc')\n",
    "plt.title('Training and validation accuracy')\n",
    "plt.legend()\n",
    "\n",
    "plt.figure()\n",
    "\n",
    "plt.plot(epochs, smooth_curve(loss), 'bo', label='Training loss')\n",
    "plt.plot(epochs, smooth_curve(val_loss), 'b', label='Validation loss')\n",
    "plt.title('Training and validation loss')\n",
    "plt.legend()\n",
    "\n",
    "plt.show()"
   ]
  },
  {
   "cell_type": "code",
   "execution_count": 36,
   "metadata": {},
   "outputs": [
    {
     "name": "stdout",
     "output_type": "stream",
     "text": [
      "Found 1000 images belonging to 2 classes.\n",
      "test acc:  0.933999992609024\n",
      "test loss:  0.3918254041936598\n"
     ]
    }
   ],
   "source": [
    "test_generator = test_datagen.flow_from_directory(\n",
    "    test_dir,\n",
    "    target_size=(150, 150),\n",
    "    batch_size=20,\n",
    "    class_mode='binary')\n",
    "\n",
    "test_loss, test_acc = model.evaluate_generator(test_generator, steps=50)\n",
    "print('test acc: ', test_acc)\n",
    "print('test loss: ', test_loss)"
   ]
  },
  {
   "cell_type": "code",
   "execution_count": null,
   "metadata": {},
   "outputs": [],
   "source": []
  }
 ],
 "metadata": {
  "kernelspec": {
   "display_name": "Python 3",
   "language": "python",
   "name": "python3"
  },
  "language_info": {
   "codemirror_mode": {
    "name": "ipython",
    "version": 3
   },
   "file_extension": ".py",
   "mimetype": "text/x-python",
   "name": "python",
   "nbconvert_exporter": "python",
   "pygments_lexer": "ipython3",
   "version": "3.7.3"
  }
 },
 "nbformat": 4,
 "nbformat_minor": 2
}
