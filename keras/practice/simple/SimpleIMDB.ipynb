{
 "cells": [
  {
   "cell_type": "code",
   "execution_count": 14,
   "metadata": {},
   "outputs": [],
   "source": [
    "from keras.datasets import imdb\n",
    "\n",
    "DEFAULT_NUM_WORDS = 10000\n",
    "(train_data, train_labels),(test_data, test_labels) = imdb.load_data(num_words=DEFAULT_NUM_WORDS)"
   ]
  },
  {
   "cell_type": "code",
   "execution_count": 15,
   "metadata": {
    "scrolled": true
   },
   "outputs": [
    {
     "name": "stdout",
     "output_type": "stream",
     "text": [
      "? this film was just brilliant casting location scenery story direction everyone's really suited the part they played and you could just imagine being there robert ? is an amazing actor and now the same being director ? father came from the same scottish island as myself so i loved the fact there was a real connection with this film the witty remarks throughout the film were great it was just brilliant so much that i bought the film as soon as it was released for ? and would recommend it to everyone to watch and the fly fishing was amazing really cried at the end it was so sad and you know what they say if you cry at a film it must have been good and this definitely was also ? to the two little boy's that played the ? of norman and paul they were just brilliant children are often left out of the ? list i think because the stars that play them all grown up are such a big profile for the whole film but these children are amazing and should be praised for what they have done don't you think the whole story was so lovely because it was true and was someone's life after all that was shared with us all\n",
      "['the', 'and', 'a', 'of', 'to', 'is', 'br', 'in', 'it', 'i', 'this', 'that', 'was', 'as', 'for', 'with', 'movie', 'but', 'film']\n"
     ]
    }
   ],
   "source": [
    "word_index = imdb.get_word_index()\n",
    "reverse_word_index = dict([(value, key) for (key, value) in word_index.items()])\n",
    "decoded_review = ' '.join([reverse_word_index.get(i-3, '?') for i in train_data[0]])\n",
    "print(decoded_review)\n",
    "print([reverse_word_index[i] for i in range(1, 20)])"
   ]
  },
  {
   "cell_type": "code",
   "execution_count": 16,
   "metadata": {},
   "outputs": [
    {
     "name": "stdout",
     "output_type": "stream",
     "text": [
      "x_train.shape: (25000, 10000)\n",
      "x_test.shape: (25000, 10000)\n"
     ]
    }
   ],
   "source": [
    "import numpy as np\n",
    "\n",
    "def vectorize_sequences(sequences, dimension=DEFAULT_NUM_WORDS):\n",
    "    results = np.zeros((len(sequences), dimension))\n",
    "    for i, sequence in enumerate(sequences):\n",
    "        results[i, sequence] = 1\n",
    "    return results\n",
    "\n",
    "x_train = vectorize_sequences(train_data)\n",
    "x_test = vectorize_sequences(test_data)\n",
    "\n",
    "print('x_train.shape: {}'.format(x_train.shape))\n",
    "print('x_test.shape: {}'.format(x_test.shape))"
   ]
  },
  {
   "cell_type": "code",
   "execution_count": 17,
   "metadata": {
    "scrolled": false
   },
   "outputs": [
    {
     "name": "stdout",
     "output_type": "stream",
     "text": [
      "y_train.shape: (25000,)\n",
      "y_test.shape: (25000,)\n"
     ]
    }
   ],
   "source": [
    "y_train = np.asarray(train_labels).astype('float32')\n",
    "y_test = np.asarray(test_labels).astype('float32')\n",
    "print('y_train.shape: {}'.format(y_train.shape))\n",
    "print('y_test.shape: {}'.format(y_test.shape))"
   ]
  },
  {
   "cell_type": "code",
   "execution_count": 18,
   "metadata": {},
   "outputs": [
    {
     "name": "stdout",
     "output_type": "stream",
     "text": [
      "x_val.shape: (10000, 10000)\n",
      "partial_x_train.shape: (15000, 10000)\n",
      "y_val.shape: (10000,)\n",
      "partial_y_train.shape: (15000,)\n"
     ]
    }
   ],
   "source": [
    "x_val = x_train[:10000]\n",
    "partial_x_train = x_train[10000:]\n",
    "print('x_val.shape: {}'.format(x_val.shape))\n",
    "print('partial_x_train.shape: {}'.format(partial_x_train.shape))\n",
    "y_val = y_train[:10000]\n",
    "partial_y_train = y_train[10000:]\n",
    "print('y_val.shape: {}'.format(y_val.shape))\n",
    "print('partial_y_train.shape: {}'.format(partial_y_train.shape))"
   ]
  },
  {
   "cell_type": "code",
   "execution_count": 19,
   "metadata": {},
   "outputs": [],
   "source": [
    "from keras import models\n",
    "from keras import layers\n",
    "\n",
    "model = models.Sequential()\n",
    "model.add(layers.Dense(16, activation='relu', input_shape=(DEFAULT_NUM_WORDS,)))\n",
    "model.add(layers.Dense(16, activation='relu'))\n",
    "model.add(layers.Dense(1, activation='sigmoid'))"
   ]
  },
  {
   "cell_type": "code",
   "execution_count": 20,
   "metadata": {
    "scrolled": false
   },
   "outputs": [
    {
     "name": "stdout",
     "output_type": "stream",
     "text": [
      "Train on 15000 samples, validate on 10000 samples\n",
      "Epoch 1/20\n",
      "15000/15000 [==============================] - 3s 200us/step - loss: 0.5084 - acc: 0.7813 - val_loss: 0.3797 - val_acc: 0.8684\n",
      "Epoch 2/20\n",
      "15000/15000 [==============================] - 2s 165us/step - loss: 0.3004 - acc: 0.9047 - val_loss: 0.3004 - val_acc: 0.8897\n",
      "Epoch 3/20\n",
      "15000/15000 [==============================] - 2s 166us/step - loss: 0.2179 - acc: 0.9285 - val_loss: 0.3085 - val_acc: 0.8711\n",
      "Epoch 4/20\n",
      "15000/15000 [==============================] - 2s 165us/step - loss: 0.1750 - acc: 0.9437 - val_loss: 0.2840 - val_acc: 0.8832\n",
      "Epoch 5/20\n",
      "15000/15000 [==============================] - 3s 167us/step - loss: 0.1427 - acc: 0.9543 - val_loss: 0.2841 - val_acc: 0.8872\n",
      "Epoch 6/20\n",
      "15000/15000 [==============================] - 2s 167us/step - loss: 0.1150 - acc: 0.9650 - val_loss: 0.3166 - val_acc: 0.8772\n",
      "Epoch 7/20\n",
      "15000/15000 [==============================] - 2s 167us/step - loss: 0.0980 - acc: 0.9705 - val_loss: 0.3127 - val_acc: 0.8846\n",
      "Epoch 8/20\n",
      "15000/15000 [==============================] - 2s 165us/step - loss: 0.0807 - acc: 0.9763 - val_loss: 0.3859 - val_acc: 0.8649\n",
      "Epoch 9/20\n",
      "15000/15000 [==============================] - 3s 167us/step - loss: 0.0661 - acc: 0.9821 - val_loss: 0.3635 - val_acc: 0.8782\n",
      "Epoch 10/20\n",
      "15000/15000 [==============================] - 2s 167us/step - loss: 0.0561 - acc: 0.9853 - val_loss: 0.3843 - val_acc: 0.8792\n",
      "Epoch 11/20\n",
      "15000/15000 [==============================] - 2s 166us/step - loss: 0.0439 - acc: 0.9893 - val_loss: 0.4153 - val_acc: 0.8779\n",
      "Epoch 12/20\n",
      "15000/15000 [==============================] - 3s 168us/step - loss: 0.0381 - acc: 0.9921 - val_loss: 0.4525 - val_acc: 0.8690\n",
      "Epoch 13/20\n",
      "15000/15000 [==============================] - 3s 168us/step - loss: 0.0300 - acc: 0.9928 - val_loss: 0.4698 - val_acc: 0.8729\n",
      "Epoch 14/20\n",
      "15000/15000 [==============================] - 3s 168us/step - loss: 0.0247 - acc: 0.9945 - val_loss: 0.5023 - val_acc: 0.8726\n",
      "Epoch 15/20\n",
      "15000/15000 [==============================] - 2s 166us/step - loss: 0.0175 - acc: 0.9979 - val_loss: 0.5341 - val_acc: 0.8693\n",
      "Epoch 16/20\n",
      "15000/15000 [==============================] - 3s 167us/step - loss: 0.0149 - acc: 0.9983 - val_loss: 0.5709 - val_acc: 0.8697\n",
      "Epoch 17/20\n",
      "15000/15000 [==============================] - 3s 170us/step - loss: 0.0151 - acc: 0.9971 - val_loss: 0.6024 - val_acc: 0.8697\n",
      "Epoch 18/20\n",
      "15000/15000 [==============================] - 3s 169us/step - loss: 0.0075 - acc: 0.9996 - val_loss: 0.6782 - val_acc: 0.8633\n",
      "Epoch 19/20\n",
      "15000/15000 [==============================] - 3s 169us/step - loss: 0.0117 - acc: 0.9975 - val_loss: 0.6691 - val_acc: 0.8673\n",
      "Epoch 20/20\n",
      "15000/15000 [==============================] - 3s 169us/step - loss: 0.0041 - acc: 0.9999 - val_loss: 0.6942 - val_acc: 0.8657\n"
     ]
    }
   ],
   "source": [
    "model.compile(optimizer='rmsprop',\n",
    "              loss='binary_crossentropy',\n",
    "              metrics=['acc'])\n",
    "history = model.fit(partial_x_train,\n",
    "                    partial_y_train,\n",
    "                    epochs=20,\n",
    "                    batch_size=512,\n",
    "                    validation_data=(x_val, y_val))"
   ]
  },
  {
   "cell_type": "code",
   "execution_count": 21,
   "metadata": {},
   "outputs": [
    {
     "name": "stdout",
     "output_type": "stream",
     "text": [
      "history_dict.keys(): ['val_loss', 'val_acc', 'loss', 'acc']\n"
     ]
    }
   ],
   "source": [
    "import matplotlib.pyplot as plt\n",
    "\n",
    "history_dict = history.history\n",
    "print('history_dict.keys(): {}'.format(list(history_dict.keys())))"
   ]
  },
  {
   "cell_type": "code",
   "execution_count": 22,
   "metadata": {},
   "outputs": [
    {
     "data": {
      "image/png": "[encoded data removed]",
      "text/plain": [
       "<Figure size 432x288 with 1 Axes>"
      ]
     },
     "metadata": {
      "needs_background": "light"
     },
     "output_type": "display_data"
    }
   ],
   "source": [
    "loss_values = history_dict['loss']\n",
    "val_loss_values = history_dict['val_loss']\n",
    "\n",
    "epochs = range(1, len(loss_values)+1)\n",
    "\n",
    "plt.plot(epochs, loss_values, 'bo', label='Training loss')\n",
    "plt.plot(epochs, val_loss_values, 'b', label='Validation loss')\n",
    "plt.title('Trainning and Validation loss')\n",
    "plt.xlabel('Epochs')\n",
    "plt.ylabel('Loss')\n",
    "plt.legend()\n",
    "\n",
    "plt.show()"
   ]
  },
  {
   "cell_type": "code",
   "execution_count": 23,
   "metadata": {},
   "outputs": [
    {
     "data": {
      "image/png": "[encoded data removed]",
      "text/plain": [
       "<Figure size 432x288 with 1 Axes>"
      ]
     },
     "metadata": {
      "needs_background": "light"
     },
     "output_type": "display_data"
    }
   ],
   "source": [
    "plt.clf()\n",
    "acc_values = history_dict['acc']\n",
    "val_acc_values = history_dict['val_acc']\n",
    "\n",
    "plt.plot(epochs, acc_values, 'bo', label='Training acc')\n",
    "plt.plot(epochs, val_acc_values, 'b', label='Validation acc')\n",
    "plt.title('Trainning and Validation accuracy')\n",
    "plt.xlabel('Epochs')\n",
    "plt.ylabel('Accuracy')\n",
    "plt.legend()\n",
    "\n",
    "plt.show()"
   ]
  },
  {
   "cell_type": "code",
   "execution_count": 24,
   "metadata": {},
   "outputs": [],
   "source": [
    "# Retraining until epochs=4 manually to prevent overfitting\n",
    "\n",
    "model = models.Sequential()\n",
    "model.add(layers.Dense(16, activation='relu', input_shape=(DEFAULT_NUM_WORDS, )))\n",
    "model.add(layers.Dense(16, activation='relu'))\n",
    "model.add(layers.Dense(1, activation='sigmoid'))"
   ]
  },
  {
   "cell_type": "code",
   "execution_count": 25,
   "metadata": {},
   "outputs": [],
   "source": [
    "model.compile(optimizer='rmsprop',\n",
    "              loss='binary_crossentropy',\n",
    "              metrics=['acc'])"
   ]
  },
  {
   "cell_type": "code",
   "execution_count": 26,
   "metadata": {},
   "outputs": [
    {
     "name": "stdout",
     "output_type": "stream",
     "text": [
      "Epoch 1/4\n",
      "25000/25000 [==============================] - 3s 123us/step - loss: 0.4749 - acc: 0.8217\n",
      "Epoch 2/4\n",
      "25000/25000 [==============================] - 3s 109us/step - loss: 0.2658 - acc: 0.9097 0s - loss: 0.2665 - acc: 0.9\n",
      "Epoch 3/4\n",
      "25000/25000 [==============================] - 3s 110us/step - loss: 0.1982 - acc: 0.9299\n",
      "Epoch 4/4\n",
      "25000/25000 [==============================] - 3s 109us/step - loss: 0.1679 - acc: 0.9404\n"
     ]
    },
    {
     "data": {
      "text/plain": [
       "<keras.callbacks.History at 0x18b3ba55710>"
      ]
     },
     "execution_count": 26,
     "metadata": {},
     "output_type": "execute_result"
    }
   ],
   "source": [
    "model.fit(x_train, y_train, epochs=4, batch_size=512)"
   ]
  },
  {
   "cell_type": "code",
   "execution_count": 27,
   "metadata": {},
   "outputs": [
    {
     "name": "stdout",
     "output_type": "stream",
     "text": [
      "25000/25000 [==============================] - 4s 179us/step\n"
     ]
    }
   ],
   "source": [
    "results = model.evaluate(x_test, y_test)"
   ]
  },
  {
   "cell_type": "code",
   "execution_count": 28,
   "metadata": {},
   "outputs": [
    {
     "name": "stdout",
     "output_type": "stream",
     "text": [
      "results: [0.3231440426158905, 0.87348]\n"
     ]
    }
   ],
   "source": [
    "print('results: {}'.format(results))"
   ]
  },
  {
   "cell_type": "code",
   "execution_count": 29,
   "metadata": {},
   "outputs": [],
   "source": [
    "from keras import regularizers\n",
    "\n",
    "model_l2 = models.Sequential()\n",
    "model_l2.add(layers.Dense(16, kernel_regularizer=regularizers.l2(0.01), activation='relu', input_shape=(DEFAULT_NUM_WORDS,)))\n",
    "model_l2.add(layers.Dense(16, kernel_regularizer=regularizers.l2(0.01), activation='relu'))\n",
    "model_l2.add(layers.Dense(1, activation='sigmoid'))"
   ]
  },
  {
   "cell_type": "code",
   "execution_count": 30,
   "metadata": {},
   "outputs": [
    {
     "name": "stdout",
     "output_type": "stream",
     "text": [
      "Train on 15000 samples, validate on 10000 samples\n",
      "Epoch 1/20\n",
      "15000/15000 [==============================] - 3s 205us/step - loss: 0.7804 - acc: 0.7819 - val_loss: 0.6346 - val_acc: 0.8548\n",
      "Epoch 2/20\n",
      "15000/15000 [==============================] - 3s 181us/step - loss: 0.5872 - acc: 0.8724 - val_loss: 0.5753 - val_acc: 0.8588\n",
      "Epoch 3/20\n",
      "15000/15000 [==============================] - 3s 168us/step - loss: 0.5265 - acc: 0.8880 - val_loss: 0.5633 - val_acc: 0.8457\n",
      "Epoch 4/20\n",
      "15000/15000 [==============================] - 3s 167us/step - loss: 0.4959 - acc: 0.8911 - val_loss: 0.5071 - val_acc: 0.8774\n",
      "Epoch 5/20\n",
      "15000/15000 [==============================] - 3s 168us/step - loss: 0.4729 - acc: 0.8937 - val_loss: 0.5010 - val_acc: 0.8694\n",
      "Epoch 6/20\n",
      "15000/15000 [==============================] - 3s 181us/step - loss: 0.4522 - acc: 0.8973 - val_loss: 0.5058 - val_acc: 0.8595\n",
      "Epoch 7/20\n",
      "15000/15000 [==============================] - 3s 175us/step - loss: 0.4372 - acc: 0.8995 - val_loss: 0.4647 - val_acc: 0.8815\n",
      "Epoch 8/20\n",
      "15000/15000 [==============================] - 3s 168us/step - loss: 0.4323 - acc: 0.8982 - val_loss: 0.4678 - val_acc: 0.8734\n",
      "Epoch 9/20\n",
      "15000/15000 [==============================] - 3s 175us/step - loss: 0.4200 - acc: 0.9020 - val_loss: 0.4534 - val_acc: 0.8806\n",
      "Epoch 10/20\n",
      "15000/15000 [==============================] - 3s 174us/step - loss: 0.4086 - acc: 0.9058 - val_loss: 0.4766 - val_acc: 0.8633\n",
      "Epoch 11/20\n",
      "15000/15000 [==============================] - 3s 170us/step - loss: 0.4045 - acc: 0.9065 - val_loss: 0.4425 - val_acc: 0.8800\n",
      "Epoch 12/20\n",
      "15000/15000 [==============================] - 3s 171us/step - loss: 0.3970 - acc: 0.9075 - val_loss: 0.4476 - val_acc: 0.8773\n",
      "Epoch 13/20\n",
      "15000/15000 [==============================] - 3s 171us/step - loss: 0.3940 - acc: 0.9066 - val_loss: 0.4438 - val_acc: 0.8778\n",
      "Epoch 14/20\n",
      "15000/15000 [==============================] - 3s 172us/step - loss: 0.3884 - acc: 0.9105 - val_loss: 0.4337 - val_acc: 0.8815\n",
      "Epoch 15/20\n",
      "15000/15000 [==============================] - 3s 172us/step - loss: 0.3845 - acc: 0.9071 - val_loss: 0.4640 - val_acc: 0.8617\n",
      "Epoch 16/20\n",
      "15000/15000 [==============================] - 3s 173us/step - loss: 0.3828 - acc: 0.9103 - val_loss: 0.4310 - val_acc: 0.8804\n",
      "Epoch 17/20\n",
      "15000/15000 [==============================] - 3s 182us/step - loss: 0.3823 - acc: 0.9075 - val_loss: 0.4302 - val_acc: 0.8814\n",
      "Epoch 18/20\n",
      "15000/15000 [==============================] - 3s 176us/step - loss: 0.3719 - acc: 0.9128 - val_loss: 0.4949 - val_acc: 0.8442\n",
      "Epoch 19/20\n",
      "15000/15000 [==============================] - 3s 188us/step - loss: 0.3707 - acc: 0.9114 - val_loss: 0.4617 - val_acc: 0.8661\n",
      "Epoch 20/20\n",
      "15000/15000 [==============================] - 3s 196us/step - loss: 0.3671 - acc: 0.9125 - val_loss: 0.4837 - val_acc: 0.8502\n"
     ]
    }
   ],
   "source": [
    "model_l2.compile(optimizer='rmsprop',\n",
    "              loss='binary_crossentropy',\n",
    "              metrics=['acc'])\n",
    "history_l2 = model_l2.fit(partial_x_train,\n",
    "                    partial_y_train,\n",
    "                    epochs=20,\n",
    "                    batch_size=512,\n",
    "                    validation_data=(x_val, y_val))"
   ]
  },
  {
   "cell_type": "code",
   "execution_count": 31,
   "metadata": {},
   "outputs": [
    {
     "data": {
      "image/png": "[encoded data removed]",
      "text/plain": [
       "<Figure size 432x288 with 1 Axes>"
      ]
     },
     "metadata": {
      "needs_background": "light"
     },
     "output_type": "display_data"
    }
   ],
   "source": [
    "import matplotlib.pyplot as plt\n",
    "\n",
    "loss_values_l2 = history_l2.history['loss']\n",
    "val_loss_values_l2 = history_l2.history['val_loss']\n",
    "\n",
    "epochs = range(1, len(loss_values_l2)+1)\n",
    "\n",
    "plt.clf()\n",
    "plt.plot(epochs, loss_values_l2, 'bo', label='Training loss for l2')\n",
    "plt.plot(epochs, val_loss_values_l2, 'b', label='Validation loss for l2')\n",
    "plt.title('Trainning and Validation loss for l2')\n",
    "plt.xlabel('Epochs')\n",
    "plt.ylabel('Loss')\n",
    "plt.legend()\n",
    "plt.show()"
   ]
  },
  {
   "cell_type": "code",
   "execution_count": 32,
   "metadata": {},
   "outputs": [
    {
     "data": {
      "image/png": "[encoded data removed]",
      "text/plain": [
       "<Figure size 432x288 with 1 Axes>"
      ]
     },
     "metadata": {
      "needs_background": "light"
     },
     "output_type": "display_data"
    }
   ],
   "source": [
    "plt.clf()\n",
    "acc_values_l2 = history_l2.history['acc']\n",
    "val_acc_values_l2 = history_l2.history['val_acc']\n",
    "\n",
    "plt.plot(epochs, acc_values_l2, 'bo', label='Training acc for l2')\n",
    "plt.plot(epochs, val_acc_values_l2, 'b', label='Validation acc for l2')\n",
    "plt.title('Trainning and Validation accuracy for l2')\n",
    "plt.xlabel('Epochs')\n",
    "plt.ylabel('Accuracy')\n",
    "plt.legend()\n",
    "\n",
    "plt.show()"
   ]
  },
  {
   "cell_type": "code",
   "execution_count": 37,
   "metadata": {},
   "outputs": [
    {
     "name": "stdout",
     "output_type": "stream",
     "text": [
      "Train on 15000 samples, validate on 10000 samples\n",
      "Epoch 1/20\n",
      "15000/15000 [==============================] - 4s 235us/step - loss: 0.5349 - acc: 0.7791 - val_loss: 0.4119 - val_acc: 0.8482\n",
      "Epoch 2/20\n",
      "15000/15000 [==============================] - 3s 172us/step - loss: 0.3254 - acc: 0.8993 - val_loss: 0.3178 - val_acc: 0.8846\n",
      "Epoch 3/20\n",
      "15000/15000 [==============================] - 3s 177us/step - loss: 0.2369 - acc: 0.9243 - val_loss: 0.3399 - val_acc: 0.8585\n",
      "Epoch 4/20\n",
      "15000/15000 [==============================] - 3s 188us/step - loss: 0.1841 - acc: 0.9417 - val_loss: 0.2956 - val_acc: 0.8823\n",
      "Epoch 5/20\n",
      "15000/15000 [==============================] - 3s 175us/step - loss: 0.1529 - acc: 0.9517 - val_loss: 0.2806 - val_acc: 0.8883\n",
      "Epoch 6/20\n",
      "15000/15000 [==============================] - 3s 168us/step - loss: 0.1238 - acc: 0.9629 - val_loss: 0.2874 - val_acc: 0.8875\n",
      "Epoch 7/20\n",
      "15000/15000 [==============================] - 3s 169us/step - loss: 0.1014 - acc: 0.9705 - val_loss: 0.3069 - val_acc: 0.8854\n",
      "Epoch 8/20\n",
      "15000/15000 [==============================] - 3s 169us/step - loss: 0.0847 - acc: 0.9770 - val_loss: 0.3208 - val_acc: 0.8797\n",
      "Epoch 9/20\n",
      "15000/15000 [==============================] - 3s 168us/step - loss: 0.0690 - acc: 0.9827 - val_loss: 0.3468 - val_acc: 0.8812\n",
      "Epoch 10/20\n",
      "15000/15000 [==============================] - 3s 169us/step - loss: 0.0548 - acc: 0.9869 - val_loss: 0.3922 - val_acc: 0.8752\n",
      "Epoch 11/20\n",
      "15000/15000 [==============================] - 3s 169us/step - loss: 0.0458 - acc: 0.9899 - val_loss: 0.4084 - val_acc: 0.8777\n",
      "Epoch 12/20\n",
      "15000/15000 [==============================] - 3s 168us/step - loss: 0.0387 - acc: 0.9917 - val_loss: 0.4229 - val_acc: 0.8708\n",
      "Epoch 13/20\n",
      "15000/15000 [==============================] - 3s 170us/step - loss: 0.0284 - acc: 0.9953 - val_loss: 0.4477 - val_acc: 0.8706\n",
      "Epoch 14/20\n",
      "15000/15000 [==============================] - 3s 172us/step - loss: 0.0248 - acc: 0.9955 - val_loss: 0.4833 - val_acc: 0.8745\n",
      "Epoch 15/20\n",
      "15000/15000 [==============================] - 3s 170us/step - loss: 0.0167 - acc: 0.9978 - val_loss: 0.5258 - val_acc: 0.8724\n",
      "Epoch 16/20\n",
      "15000/15000 [==============================] - 3s 169us/step - loss: 0.0172 - acc: 0.9963 - val_loss: 0.5263 - val_acc: 0.8704\n",
      "Epoch 17/20\n",
      "15000/15000 [==============================] - 3s 169us/step - loss: 0.0090 - acc: 0.9993 - val_loss: 0.5684 - val_acc: 0.8714\n",
      "Epoch 18/20\n",
      "15000/15000 [==============================] - 3s 170us/step - loss: 0.0081 - acc: 0.9994 - val_loss: 0.5984 - val_acc: 0.8688\n",
      "Epoch 19/20\n",
      "15000/15000 [==============================] - 3s 172us/step - loss: 0.0092 - acc: 0.9983 - val_loss: 0.6226 - val_acc: 0.8687\n",
      "Epoch 20/20\n",
      "15000/15000 [==============================] - 3s 171us/step - loss: 0.0039 - acc: 0.9996 - val_loss: 0.6589 - val_acc: 0.8665\n"
     ]
    }
   ],
   "source": [
    "model_dropout = models.Sequential()\n",
    "model_dropout.add(layers.Dense(16, activation='relu', input_shape=(DEFAULT_NUM_WORDS,)))\n",
    "model_dropout.add(layers.Dropout(0,5))\n",
    "model_dropout.add(layers.Dense(16, activation='relu'))\n",
    "model_dropout.add(layers.Dropout(0,5))\n",
    "model_dropout.add(layers.Dense(1, activation='sigmoid'))\n",
    "\n",
    "model_dropout.compile(optimizer='rmsprop',\n",
    "              loss='binary_crossentropy',\n",
    "              metrics=['acc'])\n",
    "history_dropout = model_dropout.fit(partial_x_train,\n",
    "                    partial_y_train,\n",
    "                    epochs=20,\n",
    "                    batch_size=512,\n",
    "                    validation_data=(x_val, y_val))"
   ]
  },
  {
   "cell_type": "code",
   "execution_count": 38,
   "metadata": {},
   "outputs": [
    {
     "data": {
      "image/png": "[encoded data removed]",
      "text/plain": [
       "<Figure size 432x288 with 1 Axes>"
      ]
     },
     "metadata": {
      "needs_background": "light"
     },
     "output_type": "display_data"
    }
   ],
   "source": [
    "loss_values_dropout = history_dropout.history['loss']\n",
    "val_loss_values_dropout = history_dropout.history['val_loss']\n",
    "\n",
    "epochs = range(1, len(loss_values_dropout)+1)\n",
    "\n",
    "plt.clf()\n",
    "plt.plot(epochs, loss_values_dropout, 'bo', label='Training loss for dropout')\n",
    "plt.plot(epochs, val_loss_values_dropout, 'b', label='Validation loss for dropout')\n",
    "plt.title('Trainning and Validation loss for dropout')\n",
    "plt.xlabel('Epochs')\n",
    "plt.ylabel('Loss')\n",
    "plt.legend()\n",
    "plt.show()"
   ]
  },
  {
   "cell_type": "code",
   "execution_count": 39,
   "metadata": {},
   "outputs": [
    {
     "data": {
      "image/png": "[encoded data removed]",
      "text/plain": [
       "<Figure size 432x288 with 1 Axes>"
      ]
     },
     "metadata": {
      "needs_background": "light"
     },
     "output_type": "display_data"
    }
   ],
   "source": [
    "plt.clf()\n",
    "acc_values_dropout = history_dropout.history['acc']\n",
    "val_acc_values_dropout = history_dropout.history['val_acc']\n",
    "\n",
    "plt.plot(epochs, acc_values_dropout, 'bo', label='Training acc for dropout')\n",
    "plt.plot(epochs, val_acc_values_dropout, 'b', label='Validation acc for dropout')\n",
    "plt.title('Trainning and Validation accuracy for dropout')\n",
    "plt.xlabel('Epochs')\n",
    "plt.ylabel('Accuracy')\n",
    "plt.legend()\n",
    "\n",
    "plt.show()"
   ]
  },
  {
   "cell_type": "code",
   "execution_count": 40,
   "metadata": {},
   "outputs": [
    {
     "data": {
      "image/png": "[encoded data removed]",
      "text/plain": [
       "<Figure size 432x288 with 1 Axes>"
      ]
     },
     "metadata": {
      "needs_background": "light"
     },
     "output_type": "display_data"
    }
   ],
   "source": [
    "plt.clf()\n",
    "plt.plot(epochs, val_loss_values, 'b+', label='Original model')\n",
    "plt.plot(epochs, val_loss_values_l2, 'go', label='L2-regularized model')\n",
    "plt.plot(epochs, val_loss_values_dropout, 'ro', label='Dropout model')\n",
    "plt.title('Validation loss for normal/l2/dropout')\n",
    "plt.xlabel('Epochs')\n",
    "plt.ylabel('Validation loss')\n",
    "plt.legend()\n",
    "plt.show()"
   ]
  },
  {
   "cell_type": "code",
   "execution_count": 41,
   "metadata": {},
   "outputs": [],
   "source": [
    "import string\n",
    "\n",
    "def remove_punctuation(review):\n",
    "    result = review.translate(str.maketrans('', '', string.punctuation))\n",
    "    #result = review.translate(str.maketrans({key: None for key in string.punctuation}))\n",
    "    print(\"remove_punctuation: {}\".format(result))\n",
    "    return result\n",
    "    \n",
    "def encode_review(review):\n",
    "    result =  [ word_index.get(word) if word_index.get(word) and word_index.get(word) < 10000 else 0 for word in review.split(' ')]\n",
    "    print(\"encode_review: {}\".format(result))\n",
    "    return result\n",
    "\n",
    "def predict_review(review, model):\n",
    "    review_sequences = [encode_review(remove_punctuation(review))]\n",
    "    assert len(review_sequences) == 1\n",
    "    \n",
    "    x = vectorize_sequences(review_sequences)\n",
    "    y = model.predict(x)\n",
    "    \n",
    "    print('y:{}'.format(y))\n",
    "    positive = y[0, 0]\n",
    "    if positive >= 0.8:\n",
    "        print('The review is positive with probability: {} :)'.format(positive))\n",
    "    elif positive < 0.2:\n",
    "        print('The review is negative with probability: {} :('.format(1-positive))\n",
    "    else:\n",
    "        print('Not so sure, we predict the review is positive with probability: {}'.format(positive))"
   ]
  },
  {
   "cell_type": "code",
   "execution_count": 35,
   "metadata": {},
   "outputs": [
    {
     "name": "stdout",
     "output_type": "stream",
     "text": [
      "remove_punctuation: Solid Movie for Those Who PayAttention\n",
      "encode_review: [0, 0, 15, 0, 0, 0]\n",
      "y:[[0.46253332]]\n",
      "Not so sure, we predict the review is positive with probability: 0.4625333249568939\n",
      "remove_punctuation: Unexpected a movie that will push to deep thinking\n",
      "encode_review: [0, 3, 17, 12, 77, 3652, 5, 930, 533]\n",
      "y:[[0.4287774]]\n",
      "Not so sure, we predict the review is positive with probability: 0.42877739667892456\n",
      "remove_punctuation: Such a confusing frustrating movie\n",
      "encode_review: [0, 3, 1496, 5126, 17]\n",
      "y:[[0.45486817]]\n",
      "Not so sure, we predict the review is positive with probability: 0.4548681676387787\n"
     ]
    }
   ],
   "source": [
    "test_review1 = \"Solid Movie for Those Who PayAttention\"\n",
    "predict_review(test_review1, model)\n",
    "\n",
    "test_review2 = \"Unexpected; a movie that will push to deep thinking\"\n",
    "predict_review(test_review2, model)\n",
    "\n",
    "test_review3 = \"Such a confusing, frustrating movie!\"\n",
    "predict_review(test_review3, model)"
   ]
  },
  {
   "cell_type": "code",
   "execution_count": 36,
   "metadata": {},
   "outputs": [
    {
     "name": "stdout",
     "output_type": "stream",
     "text": [
      "remove_punctuation: Solid Movie for Those Who PayAttention\n",
      "encode_review: [0, 0, 15, 0, 0, 0]\n",
      "y:[[0.57464075]]\n",
      "Not so sure, we predict the review is positive with probability: 0.5746407508850098\n",
      "remove_punctuation: Unexpected a movie that will push to deep thinking\n",
      "encode_review: [0, 3, 17, 12, 77, 3652, 5, 930, 533]\n",
      "y:[[0.5974238]]\n",
      "Not so sure, we predict the review is positive with probability: 0.597423791885376\n",
      "remove_punctuation: Such a confusing frustrating movie\n",
      "encode_review: [0, 3, 1496, 5126, 17]\n",
      "y:[[0.57103413]]\n",
      "Not so sure, we predict the review is positive with probability: 0.5710341334342957\n"
     ]
    }
   ],
   "source": [
    "predict_review(test_review1, model_l2)\n",
    "\n",
    "predict_review(test_review2, model_l2)\n",
    "\n",
    "predict_review(test_review3, model_l2)"
   ]
  },
  {
   "cell_type": "code",
   "execution_count": 42,
   "metadata": {},
   "outputs": [
    {
     "name": "stdout",
     "output_type": "stream",
     "text": [
      "remove_punctuation: Solid Movie for Those Who PayAttention\n",
      "encode_review: [0, 0, 15, 0, 0, 0]\n",
      "y:[[0.4805903]]\n",
      "Not so sure, we predict the review is positive with probability: 0.4805903136730194\n",
      "remove_punctuation: Unexpected a movie that will push to deep thinking\n",
      "encode_review: [0, 3, 17, 12, 77, 3652, 5, 930, 533]\n",
      "y:[[0.74323565]]\n",
      "Not so sure, we predict the review is positive with probability: 0.7432356476783752\n",
      "remove_punctuation: Such a confusing frustrating movie\n",
      "encode_review: [0, 3, 1496, 5126, 17]\n",
      "y:[[0.34971273]]\n",
      "Not so sure, we predict the review is positive with probability: 0.3497127294540405\n"
     ]
    }
   ],
   "source": [
    "predict_review(test_review1, model_dropout)\n",
    "\n",
    "predict_review(test_review2, model_dropout)\n",
    "\n",
    "predict_review(test_review3, model_dropout)"
   ]
  },
  {
   "cell_type": "code",
   "execution_count": 43,
   "metadata": {},
   "outputs": [
    {
     "name": "stdout",
     "output_type": "stream",
     "text": [
      "remove_punctuation: the story of the movie is goodbut i do not like it\n",
      "encode_review: [1, 62, 4, 1, 17, 6, 0, 10, 78, 21, 37, 9]\n",
      "y:[[0.1969676]]\n",
      "The review is negative with probability: 0.803032398223877 :(\n"
     ]
    }
   ],
   "source": [
    "test_review_by_qiuqiu = 'the story of the movie is good,but i do not like it.'\n",
    "predict_review(test_review_by_qiuqiu, model_dropout)"
   ]
  },
  {
   "cell_type": "code",
   "execution_count": 44,
   "metadata": {},
   "outputs": [
    {
     "name": "stdout",
     "output_type": "stream",
     "text": [
      "remove_punctuation: the story of the movie is terriblebut i like it\n",
      "encode_review: [1, 62, 4, 1, 17, 6, 0, 10, 37, 9]\n",
      "y:[[0.5189517]]\n",
      "Not so sure, we predict the review is positive with probability: 0.5189517140388489\n"
     ]
    }
   ],
   "source": [
    "test_review_by_qiuqiu_2 = 'the story of the movie is terrible,but i like it.'\n",
    "predict_review(test_review_by_qiuqiu_2, model_dropout)"
   ]
  },
  {
   "cell_type": "code",
   "execution_count": 45,
   "metadata": {},
   "outputs": [
    {
     "name": "stdout",
     "output_type": "stream",
     "text": [
      "remove_punctuation: The content of this movie is very rich And the storyline is very exciting\n",
      "encode_review: [0, 1497, 4, 11, 17, 6, 52, 1023, 0, 1, 766, 6, 52, 1124]\n",
      "y:[[0.9797347]]\n",
      "The review is positive with probability: 0.9797347187995911 :)\n"
     ]
    }
   ],
   "source": [
    "test_review_by_qiuqiu_3 = \"The content of this movie is very rich. And the storyline is very exciting.\"\n",
    "predict_review(test_review_by_qiuqiu_3, model_dropout)"
   ]
  },
  {
   "cell_type": "code",
   "execution_count": 46,
   "metadata": {},
   "outputs": [
    {
     "name": "stdout",
     "output_type": "stream",
     "text": [
      "remove_punctuation: The movie makes me asleep\n",
      "encode_review: [0, 17, 163, 69, 2356]\n",
      "y:[[0.61541396]]\n",
      "Not so sure, we predict the review is positive with probability: 0.6154139637947083\n"
     ]
    }
   ],
   "source": [
    "test_review_by_qiuqiu_4 = 'The movie makes me asleep.'\n",
    "predict_review(test_review_by_qiuqiu_4, model_dropout)"
   ]
  },
  {
   "cell_type": "code",
   "execution_count": null,
   "metadata": {},
   "outputs": [],
   "source": []
  }
 ],
 "metadata": {
  "kernelspec": {
   "display_name": "Python 3",
   "language": "python",
   "name": "python3"
  },
  "language_info": {
   "codemirror_mode": {
    "name": "ipython",
    "version": 3
   },
   "file_extension": ".py",
   "mimetype": "text/x-python",
   "name": "python",
   "nbconvert_exporter": "python",
   "pygments_lexer": "ipython3",
   "version": "3.7.3"
  }
 },
 "nbformat": 4,
 "nbformat_minor": 2
}
