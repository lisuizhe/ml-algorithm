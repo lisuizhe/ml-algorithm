{
 "cells": [
  {
   "cell_type": "code",
   "execution_count": 1,
   "metadata": {},
   "outputs": [],
   "source": [
    "%matplotlib inline\n",
    "\n",
    "import os\n",
    "\n",
    "import tensorflow.keras as keras\n",
    "import numpy as np\n",
    "import matplotlib.pyplot as plt\n",
    "\n",
    "from tensorflow.keras.layers import Dense, Conv2D, MaxPooling2D, Flatten, Input, Activation, add, Add, Dropout, BatchNormalization\n",
    "from tensorflow.keras.callbacks import EarlyStopping\n",
    "from tensorflow.keras.models import Sequential, Model\n",
    "from tensorflow.keras.datasets import cifar10\n",
    "from tensorflow.keras.datasets import fashion_mnist\n",
    "from tensorflow.keras.utils import to_categorical\n",
    "from sklearn.model_selection import train_test_split\n",
    "\n",
    "from IPython.display import SVG\n",
    "from tensorflow.python.keras.utils.vis_utils import model_to_dot\n",
    "\n",
    "random_state = 42"
   ]
  },
  {
   "cell_type": "code",
   "execution_count": 2,
   "metadata": {},
   "outputs": [],
   "source": [
    "(x_train, y_train), (x_test, y_test) = fashion_mnist.load_data()"
   ]
  },
  {
   "cell_type": "code",
   "execution_count": 3,
   "metadata": {},
   "outputs": [
    {
     "data": {
      "image/png": "[encoded data removed]",
      "text/plain": [
       "<Figure size 648x1080 with 9 Axes>"
      ]
     },
     "metadata": {},
     "output_type": "display_data"
    }
   ],
   "source": [
    "fig = plt.figure(figsize=(9, 15))\n",
    "fig.subplots_adjust(left=0, right=1, bottom=0, top=0.5, hspace=0.05, wspace=0.05)\n",
    "\n",
    "for i in range(9):\n",
    "    ax = fig.add_subplot(1, 9, i+1, xticks=[], yticks=[])\n",
    "    ax.imshow(x_train[i], cmap='gray')"
   ]
  },
  {
   "cell_type": "code",
   "execution_count": 4,
   "metadata": {},
   "outputs": [
    {
     "name": "stdout",
     "output_type": "stream",
     "text": [
      "(60000, 28, 28)\n"
     ]
    }
   ],
   "source": [
    "print(x_train.shape)"
   ]
  },
  {
   "cell_type": "code",
   "execution_count": 5,
   "metadata": {},
   "outputs": [],
   "source": [
    "x_train = x_train.reshape((x_train.shape[0], 28, 28, 1)) / 255\n",
    "x_test = x_test.reshape((x_test.shape[0], 28, 28, 1)) / 255\n",
    "y_train = to_categorical(y_train)\n",
    "y_test = to_categorical(y_test)"
   ]
  },
  {
   "cell_type": "code",
   "execution_count": 6,
   "metadata": {},
   "outputs": [
    {
     "name": "stdout",
     "output_type": "stream",
     "text": [
      "(60000, 28, 28, 1)\n"
     ]
    }
   ],
   "source": [
    "print(x_train.shape)"
   ]
  },
  {
   "cell_type": "code",
   "execution_count": 7,
   "metadata": {},
   "outputs": [
    {
     "name": "stdout",
     "output_type": "stream",
     "text": [
      "WARNING:tensorflow:From C:\\Users\\suizh\\Anaconda3\\lib\\site-packages\\tensorflow\\python\\ops\\resource_variable_ops.py:435: colocate_with (from tensorflow.python.framework.ops) is deprecated and will be removed in a future version.\n",
      "Instructions for updating:\n",
      "Colocations handled automatically by placer.\n"
     ]
    }
   ],
   "source": [
    "model = Sequential()\n",
    "\n",
    "# 28x28x1\n",
    "model.add(Conv2D(16, kernel_size=(5, 5), activation='relu', \n",
    "                 kernel_initializer='he_normal', input_shape=(28, 28, 1)))\n",
    "# 24x24x16\n",
    "model.add(MaxPooling2D(pool_size=(2, 2)))\n",
    "# 12x12x16\n",
    "model.add(Conv2D(64, kernel_size=(5, 5), activation='relu', \n",
    "                 kernel_initializer='he_normal'))\n",
    "# 8x8x64\n",
    "model.add(MaxPooling2D(pool_size=(2, 2)))\n",
    "# 4x4x64\n",
    "model.add(Flatten())\n",
    "# 1024\n",
    "model.add(Dense(10, activation='softmax'))\n",
    "# 10\n",
    "\n",
    "model.compile(loss='categorical_crossentropy',\n",
    "              optimizer='adam',\n",
    "              metrics=['accuracy'])"
   ]
  },
  {
   "cell_type": "code",
   "execution_count": 8,
   "metadata": {},
   "outputs": [
    {
     "name": "stdout",
     "output_type": "stream",
     "text": [
      "_________________________________________________________________\n",
      "Layer (type)                 Output Shape              Param #   \n",
      "=================================================================\n",
      "conv2d (Conv2D)              (None, 24, 24, 16)        416       \n",
      "_________________________________________________________________\n",
      "max_pooling2d (MaxPooling2D) (None, 12, 12, 16)        0         \n",
      "_________________________________________________________________\n",
      "conv2d_1 (Conv2D)            (None, 8, 8, 64)          25664     \n",
      "_________________________________________________________________\n",
      "max_pooling2d_1 (MaxPooling2 (None, 4, 4, 64)          0         \n",
      "_________________________________________________________________\n",
      "flatten (Flatten)            (None, 1024)              0         \n",
      "_________________________________________________________________\n",
      "dense (Dense)                (None, 10)                10250     \n",
      "=================================================================\n",
      "Total params: 36,330\n",
      "Trainable params: 36,330\n",
      "Non-trainable params: 0\n",
      "_________________________________________________________________\n"
     ]
    }
   ],
   "source": [
    "model.summary()"
   ]
  },
  {
   "cell_type": "code",
   "execution_count": 9,
   "metadata": {},
   "outputs": [
    {
     "data": {
      "image/svg+xml": [
       "<svg height=\"543pt\" viewBox=\"0.00 0.00 378.00 543.00\" width=\"378pt\" xmlns=\"http://www.w3.org/2000/svg\" xmlns:xlink=\"http://www.w3.org/1999/xlink\">\n",
       "<g class=\"graph\" id=\"graph0\" transform=\"scale(1 1) rotate(0) translate(4 539)\">\n",
       "<title>G</title>\n",
       "<polygon fill=\"white\" points=\"-4,4 -4,-539 374,-539 374,4 -4,4\" stroke=\"none\"/>\n",
       "<!-- 2651066103624 -->\n",
       "<g class=\"node\" id=\"node1\"><title>2651066103624</title>\n",
       "<polygon fill=\"none\" points=\"41,-415.5 41,-461.5 329,-461.5 329,-415.5 41,-415.5\" stroke=\"black\"/>\n",
       "<text font-family=\"Times New Roman,serif\" font-size=\"14.00\" text-anchor=\"middle\" x=\"97.5\" y=\"-434.8\">conv2d: Conv2D</text>\n",
       "<polyline fill=\"none\" points=\"154,-415.5 154,-461.5 \" stroke=\"black\"/>\n",
       "<text font-family=\"Times New Roman,serif\" font-size=\"14.00\" text-anchor=\"middle\" x=\"182\" y=\"-446.3\">input:</text>\n",
       "<polyline fill=\"none\" points=\"154,-438.5 210,-438.5 \" stroke=\"black\"/>\n",
       "<text font-family=\"Times New Roman,serif\" font-size=\"14.00\" text-anchor=\"middle\" x=\"182\" y=\"-423.3\">output:</text>\n",
       "<polyline fill=\"none\" points=\"210,-415.5 210,-461.5 \" stroke=\"black\"/>\n",
       "<text font-family=\"Times New Roman,serif\" font-size=\"14.00\" text-anchor=\"middle\" x=\"269.5\" y=\"-446.3\">(None, 28, 28, 1)</text>\n",
       "<polyline fill=\"none\" points=\"210,-438.5 329,-438.5 \" stroke=\"black\"/>\n",
       "<text font-family=\"Times New Roman,serif\" font-size=\"14.00\" text-anchor=\"middle\" x=\"269.5\" y=\"-423.3\">(None, 24, 24, 16)</text>\n",
       "</g>\n",
       "<!-- 2651066103512 -->\n",
       "<g class=\"node\" id=\"node2\"><title>2651066103512</title>\n",
       "<polygon fill=\"none\" points=\"0.5,-332.5 0.5,-378.5 369.5,-378.5 369.5,-332.5 0.5,-332.5\" stroke=\"black\"/>\n",
       "<text font-family=\"Times New Roman,serif\" font-size=\"14.00\" text-anchor=\"middle\" x=\"97.5\" y=\"-351.8\">max_pooling2d: MaxPooling2D</text>\n",
       "<polyline fill=\"none\" points=\"194.5,-332.5 194.5,-378.5 \" stroke=\"black\"/>\n",
       "<text font-family=\"Times New Roman,serif\" font-size=\"14.00\" text-anchor=\"middle\" x=\"222.5\" y=\"-363.3\">input:</text>\n",
       "<polyline fill=\"none\" points=\"194.5,-355.5 250.5,-355.5 \" stroke=\"black\"/>\n",
       "<text font-family=\"Times New Roman,serif\" font-size=\"14.00\" text-anchor=\"middle\" x=\"222.5\" y=\"-340.3\">output:</text>\n",
       "<polyline fill=\"none\" points=\"250.5,-332.5 250.5,-378.5 \" stroke=\"black\"/>\n",
       "<text font-family=\"Times New Roman,serif\" font-size=\"14.00\" text-anchor=\"middle\" x=\"310\" y=\"-363.3\">(None, 24, 24, 16)</text>\n",
       "<polyline fill=\"none\" points=\"250.5,-355.5 369.5,-355.5 \" stroke=\"black\"/>\n",
       "<text font-family=\"Times New Roman,serif\" font-size=\"14.00\" text-anchor=\"middle\" x=\"310\" y=\"-340.3\">(None, 12, 12, 16)</text>\n",
       "</g>\n",
       "<!-- 2651066103624&#45;&gt;2651066103512 -->\n",
       "<g class=\"edge\" id=\"edge2\"><title>2651066103624-&gt;2651066103512</title>\n",
       "<path d=\"M185,-415.366C185,-407.152 185,-397.658 185,-388.725\" fill=\"none\" stroke=\"black\"/>\n",
       "<polygon fill=\"black\" points=\"188.5,-388.607 185,-378.607 181.5,-388.607 188.5,-388.607\" stroke=\"black\"/>\n",
       "</g>\n",
       "<!-- 2651128775288 -->\n",
       "<g class=\"node\" id=\"node3\"><title>2651128775288</title>\n",
       "<polygon fill=\"none\" points=\"34,-249.5 34,-295.5 336,-295.5 336,-249.5 34,-249.5\" stroke=\"black\"/>\n",
       "<text font-family=\"Times New Roman,serif\" font-size=\"14.00\" text-anchor=\"middle\" x=\"97.5\" y=\"-268.8\">conv2d_1: Conv2D</text>\n",
       "<polyline fill=\"none\" points=\"161,-249.5 161,-295.5 \" stroke=\"black\"/>\n",
       "<text font-family=\"Times New Roman,serif\" font-size=\"14.00\" text-anchor=\"middle\" x=\"189\" y=\"-280.3\">input:</text>\n",
       "<polyline fill=\"none\" points=\"161,-272.5 217,-272.5 \" stroke=\"black\"/>\n",
       "<text font-family=\"Times New Roman,serif\" font-size=\"14.00\" text-anchor=\"middle\" x=\"189\" y=\"-257.3\">output:</text>\n",
       "<polyline fill=\"none\" points=\"217,-249.5 217,-295.5 \" stroke=\"black\"/>\n",
       "<text font-family=\"Times New Roman,serif\" font-size=\"14.00\" text-anchor=\"middle\" x=\"276.5\" y=\"-280.3\">(None, 12, 12, 16)</text>\n",
       "<polyline fill=\"none\" points=\"217,-272.5 336,-272.5 \" stroke=\"black\"/>\n",
       "<text font-family=\"Times New Roman,serif\" font-size=\"14.00\" text-anchor=\"middle\" x=\"276.5\" y=\"-257.3\">(None, 8, 8, 64)</text>\n",
       "</g>\n",
       "<!-- 2651066103512&#45;&gt;2651128775288 -->\n",
       "<g class=\"edge\" id=\"edge3\"><title>2651066103512-&gt;2651128775288</title>\n",
       "<path d=\"M185,-332.366C185,-324.152 185,-314.658 185,-305.725\" fill=\"none\" stroke=\"black\"/>\n",
       "<polygon fill=\"black\" points=\"188.5,-305.607 185,-295.607 181.5,-305.607 188.5,-305.607\" stroke=\"black\"/>\n",
       "</g>\n",
       "<!-- 2651128775120 -->\n",
       "<g class=\"node\" id=\"node4\"><title>2651128775120</title>\n",
       "<polygon fill=\"none\" points=\"0,-166.5 0,-212.5 370,-212.5 370,-166.5 0,-166.5\" stroke=\"black\"/>\n",
       "<text font-family=\"Times New Roman,serif\" font-size=\"14.00\" text-anchor=\"middle\" x=\"104.5\" y=\"-185.8\">max_pooling2d_1: MaxPooling2D</text>\n",
       "<polyline fill=\"none\" points=\"209,-166.5 209,-212.5 \" stroke=\"black\"/>\n",
       "<text font-family=\"Times New Roman,serif\" font-size=\"14.00\" text-anchor=\"middle\" x=\"237\" y=\"-197.3\">input:</text>\n",
       "<polyline fill=\"none\" points=\"209,-189.5 265,-189.5 \" stroke=\"black\"/>\n",
       "<text font-family=\"Times New Roman,serif\" font-size=\"14.00\" text-anchor=\"middle\" x=\"237\" y=\"-174.3\">output:</text>\n",
       "<polyline fill=\"none\" points=\"265,-166.5 265,-212.5 \" stroke=\"black\"/>\n",
       "<text font-family=\"Times New Roman,serif\" font-size=\"14.00\" text-anchor=\"middle\" x=\"317.5\" y=\"-197.3\">(None, 8, 8, 64)</text>\n",
       "<polyline fill=\"none\" points=\"265,-189.5 370,-189.5 \" stroke=\"black\"/>\n",
       "<text font-family=\"Times New Roman,serif\" font-size=\"14.00\" text-anchor=\"middle\" x=\"317.5\" y=\"-174.3\">(None, 4, 4, 64)</text>\n",
       "</g>\n",
       "<!-- 2651128775288&#45;&gt;2651128775120 -->\n",
       "<g class=\"edge\" id=\"edge4\"><title>2651128775288-&gt;2651128775120</title>\n",
       "<path d=\"M185,-249.366C185,-241.152 185,-231.658 185,-222.725\" fill=\"none\" stroke=\"black\"/>\n",
       "<polygon fill=\"black\" points=\"188.5,-222.607 185,-212.607 181.5,-222.607 188.5,-222.607\" stroke=\"black\"/>\n",
       "</g>\n",
       "<!-- 2651128883408 -->\n",
       "<g class=\"node\" id=\"node5\"><title>2651128883408</title>\n",
       "<polygon fill=\"none\" points=\"57,-83.5 57,-129.5 313,-129.5 313,-83.5 57,-83.5\" stroke=\"black\"/>\n",
       "<text font-family=\"Times New Roman,serif\" font-size=\"14.00\" text-anchor=\"middle\" x=\"104.5\" y=\"-102.8\">flatten: Flatten</text>\n",
       "<polyline fill=\"none\" points=\"152,-83.5 152,-129.5 \" stroke=\"black\"/>\n",
       "<text font-family=\"Times New Roman,serif\" font-size=\"14.00\" text-anchor=\"middle\" x=\"180\" y=\"-114.3\">input:</text>\n",
       "<polyline fill=\"none\" points=\"152,-106.5 208,-106.5 \" stroke=\"black\"/>\n",
       "<text font-family=\"Times New Roman,serif\" font-size=\"14.00\" text-anchor=\"middle\" x=\"180\" y=\"-91.3\">output:</text>\n",
       "<polyline fill=\"none\" points=\"208,-83.5 208,-129.5 \" stroke=\"black\"/>\n",
       "<text font-family=\"Times New Roman,serif\" font-size=\"14.00\" text-anchor=\"middle\" x=\"260.5\" y=\"-114.3\">(None, 4, 4, 64)</text>\n",
       "<polyline fill=\"none\" points=\"208,-106.5 313,-106.5 \" stroke=\"black\"/>\n",
       "<text font-family=\"Times New Roman,serif\" font-size=\"14.00\" text-anchor=\"middle\" x=\"260.5\" y=\"-91.3\">(None, 1024)</text>\n",
       "</g>\n",
       "<!-- 2651128775120&#45;&gt;2651128883408 -->\n",
       "<g class=\"edge\" id=\"edge5\"><title>2651128775120-&gt;2651128883408</title>\n",
       "<path d=\"M185,-166.366C185,-158.152 185,-148.658 185,-139.725\" fill=\"none\" stroke=\"black\"/>\n",
       "<polygon fill=\"black\" points=\"188.5,-139.607 185,-129.607 181.5,-139.607 188.5,-139.607\" stroke=\"black\"/>\n",
       "</g>\n",
       "<!-- 2651129086808 -->\n",
       "<g class=\"node\" id=\"node6\"><title>2651129086808</title>\n",
       "<polygon fill=\"none\" points=\"67,-0.5 67,-46.5 303,-46.5 303,-0.5 67,-0.5\" stroke=\"black\"/>\n",
       "<text font-family=\"Times New Roman,serif\" font-size=\"14.00\" text-anchor=\"middle\" x=\"112\" y=\"-19.8\">dense: Dense</text>\n",
       "<polyline fill=\"none\" points=\"157,-0.5 157,-46.5 \" stroke=\"black\"/>\n",
       "<text font-family=\"Times New Roman,serif\" font-size=\"14.00\" text-anchor=\"middle\" x=\"185\" y=\"-31.3\">input:</text>\n",
       "<polyline fill=\"none\" points=\"157,-23.5 213,-23.5 \" stroke=\"black\"/>\n",
       "<text font-family=\"Times New Roman,serif\" font-size=\"14.00\" text-anchor=\"middle\" x=\"185\" y=\"-8.3\">output:</text>\n",
       "<polyline fill=\"none\" points=\"213,-0.5 213,-46.5 \" stroke=\"black\"/>\n",
       "<text font-family=\"Times New Roman,serif\" font-size=\"14.00\" text-anchor=\"middle\" x=\"258\" y=\"-31.3\">(None, 1024)</text>\n",
       "<polyline fill=\"none\" points=\"213,-23.5 303,-23.5 \" stroke=\"black\"/>\n",
       "<text font-family=\"Times New Roman,serif\" font-size=\"14.00\" text-anchor=\"middle\" x=\"258\" y=\"-8.3\">(None, 10)</text>\n",
       "</g>\n",
       "<!-- 2651128883408&#45;&gt;2651129086808 -->\n",
       "<g class=\"edge\" id=\"edge6\"><title>2651128883408-&gt;2651129086808</title>\n",
       "<path d=\"M185,-83.3664C185,-75.1516 185,-65.6579 185,-56.7252\" fill=\"none\" stroke=\"black\"/>\n",
       "<polygon fill=\"black\" points=\"188.5,-56.6068 185,-46.6068 181.5,-56.6069 188.5,-56.6068\" stroke=\"black\"/>\n",
       "</g>\n",
       "<!-- 2650918272248 -->\n",
       "<g class=\"node\" id=\"node7\"><title>2650918272248</title>\n",
       "<polygon fill=\"none\" points=\"133,-498.5 133,-534.5 237,-534.5 237,-498.5 133,-498.5\" stroke=\"black\"/>\n",
       "<text font-family=\"Times New Roman,serif\" font-size=\"14.00\" text-anchor=\"middle\" x=\"185\" y=\"-512.8\">2650918272248</text>\n",
       "</g>\n",
       "<!-- 2650918272248&#45;&gt;2651066103624 -->\n",
       "<g class=\"edge\" id=\"edge1\"><title>2650918272248-&gt;2651066103624</title>\n",
       "<path d=\"M185,-498.254C185,-490.363 185,-480.749 185,-471.602\" fill=\"none\" stroke=\"black\"/>\n",
       "<polygon fill=\"black\" points=\"188.5,-471.591 185,-461.591 181.5,-471.591 188.5,-471.591\" stroke=\"black\"/>\n",
       "</g>\n",
       "</g>\n",
       "</svg>"
      ],
      "text/plain": [
       "<IPython.core.display.SVG object>"
      ]
     },
     "execution_count": 9,
     "metadata": {},
     "output_type": "execute_result"
    }
   ],
   "source": [
    "SVG(model_to_dot(model, show_shapes=True).create(prog='dot', format='svg'))"
   ]
  },
  {
   "cell_type": "code",
   "execution_count": 10,
   "metadata": {},
   "outputs": [
    {
     "name": "stdout",
     "output_type": "stream",
     "text": [
      "Train on 60000 samples, validate on 10000 samples\n",
      "WARNING:tensorflow:From C:\\Users\\suizh\\Anaconda3\\lib\\site-packages\\tensorflow\\python\\ops\\math_ops.py:3066: to_int32 (from tensorflow.python.ops.math_ops) is deprecated and will be removed in a future version.\n",
      "Instructions for updating:\n",
      "Use tf.cast instead.\n",
      "Epoch 1/100\n",
      "60000/60000 [==============================] - 5s 83us/sample - loss: 0.5449 - acc: 0.8078 - val_loss: 0.4308 - val_acc: 0.8449\n",
      "Epoch 2/100\n",
      "60000/60000 [==============================] - 3s 57us/sample - loss: 0.3562 - acc: 0.8742 - val_loss: 0.3452 - val_acc: 0.8758\n",
      "Epoch 3/100\n",
      "60000/60000 [==============================] - 3s 58us/sample - loss: 0.3072 - acc: 0.8891 - val_loss: 0.3204 - val_acc: 0.8828\n",
      "Epoch 4/100\n",
      "60000/60000 [==============================] - 3s 58us/sample - loss: 0.2779 - acc: 0.9001 - val_loss: 0.2999 - val_acc: 0.8919\n",
      "Epoch 5/100\n",
      "60000/60000 [==============================] - 3s 57us/sample - loss: 0.2553 - acc: 0.9076 - val_loss: 0.2968 - val_acc: 0.8937\n",
      "Epoch 6/100\n",
      "60000/60000 [==============================] - 3s 57us/sample - loss: 0.2397 - acc: 0.9139 - val_loss: 0.2881 - val_acc: 0.8977\n",
      "Epoch 7/100\n",
      "60000/60000 [==============================] - 3s 57us/sample - loss: 0.2258 - acc: 0.9187 - val_loss: 0.2852 - val_acc: 0.8980\n",
      "Epoch 8/100\n",
      "60000/60000 [==============================] - 3s 57us/sample - loss: 0.2127 - acc: 0.9232 - val_loss: 0.2797 - val_acc: 0.8998\n",
      "Epoch 9/100\n",
      "60000/60000 [==============================] - 3s 58us/sample - loss: 0.2023 - acc: 0.9269 - val_loss: 0.2738 - val_acc: 0.8985\n",
      "Epoch 10/100\n",
      "60000/60000 [==============================] - 3s 57us/sample - loss: 0.1916 - acc: 0.9306 - val_loss: 0.2712 - val_acc: 0.9049\n",
      "Epoch 11/100\n",
      "60000/60000 [==============================] - 3s 58us/sample - loss: 0.1814 - acc: 0.9357 - val_loss: 0.2752 - val_acc: 0.9035\n",
      "Epoch 00011: early stopping\n"
     ]
    },
    {
     "data": {
      "text/plain": [
       "<tensorflow.python.keras.callbacks.History at 0x2694408abe0>"
      ]
     },
     "execution_count": 10,
     "metadata": {},
     "output_type": "execute_result"
    }
   ],
   "source": [
    "early_stopping = EarlyStopping(patience=1, verbose=1)\n",
    "model.fit(x_train, y_train,\n",
    "          batch_size=128, epochs=100, verbose=1,\n",
    "          validation_data=(x_test, y_test),\n",
    "          callbacks=[early_stopping])"
   ]
  },
  {
   "cell_type": "code",
   "execution_count": 11,
   "metadata": {},
   "outputs": [
    {
     "name": "stdout",
     "output_type": "stream",
     "text": [
      "Test loss: 0.27522476626634595\n",
      "Test accuracy: 0.9035\n"
     ]
    }
   ],
   "source": [
    "score = model.evaluate(x_test, y_test, verbose=0)\n",
    "print('Test loss:', score[0])\n",
    "print('Test accuracy:', score[1])"
   ]
  },
  {
   "cell_type": "code",
   "execution_count": null,
   "metadata": {},
   "outputs": [],
   "source": []
  }
 ],
 "metadata": {
  "kernelspec": {
   "display_name": "Python 3",
   "language": "python",
   "name": "python3"
  },
  "language_info": {
   "codemirror_mode": {
    "name": "ipython",
    "version": 3
   },
   "file_extension": ".py",
   "mimetype": "text/x-python",
   "name": "python",
   "nbconvert_exporter": "python",
   "pygments_lexer": "ipython3",
   "version": "3.7.3"
  }
 },
 "nbformat": 4,
 "nbformat_minor": 2
}
