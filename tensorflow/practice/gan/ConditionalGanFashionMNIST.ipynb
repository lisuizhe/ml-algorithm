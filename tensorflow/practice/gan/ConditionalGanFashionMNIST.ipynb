{
 "cells": [
  {
   "cell_type": "code",
   "execution_count": 1,
   "metadata": {},
   "outputs": [],
   "source": [
    "from tensorflow.keras.datasets import mnist\n",
    "from tensorflow.keras.datasets import fashion_mnist\n",
    "import numpy as np\n",
    "import matplotlib.pyplot as plt\n",
    "%matplotlib inline\n",
    "\n",
    "def load_mnist(dim=3, data='mnist'):\n",
    "    img_rows, img_cols = 28, 28\n",
    "    \n",
    "    if data == 'mnist':\n",
    "        (x_train, y_train), (x_test, y_test) = mnist.load_data()\n",
    "    else:\n",
    "        (x_train, y_train), (x_test, y_test) = fashion_mnist.load_data()\n",
    "    \n",
    "    if dim == 3:\n",
    "        x_train = x_train.reshape(x_train.shape[0], img_rows, img_cols, 1)\n",
    "        x_test = x_test.reshape(x_test.shape[0], img_rows, img_cols, 1)\n",
    "    else:\n",
    "        x_train = x_train.reshape(x_train.shape[0], img_rows*img_cols)\n",
    "        x_test = x_test.reshape(x_test.shape[0], img_rows*img_cols)\n",
    "        \n",
    "    x_train = x_train.astype('float32') / 255\n",
    "    x_test = x_test.astype('float32') / 255\n",
    "    y_train = np.eye(10)[y_train]\n",
    "    y_test = np.eye(10)[y_test]\n",
    "    \n",
    "    return  x_train, x_test, y_train, y_test\n",
    "\n",
    "\n",
    "def plot_mnist_conditional(n_ex=10,dim=(2, 5), figsize=(8,4), labels=range(10)):\n",
    "    noise = np.random.uniform(0,1,size=[n_ex,100])\n",
    "    label_batch = np.eye(10)[np.arange(10)]\n",
    "    generated_images = generator.predict([noise, label_batch])\n",
    "\n",
    "    plt.figure(figsize=figsize)\n",
    "    for i in range(generated_images.shape[0]):\n",
    "        plt.subplot(dim[0],dim[1], i+1)\n",
    "        img = generated_images[i,:,:, 0]\n",
    "        plt.imshow(img, cmap='binary')\n",
    "        plt.title(labels[i])\n",
    "        plt.axis('off')\n",
    "    plt.tight_layout()\n",
    "    plt.show()"
   ]
  },
  {
   "cell_type": "code",
   "execution_count": 2,
   "metadata": {},
   "outputs": [
    {
     "name": "stdout",
     "output_type": "stream",
     "text": [
      "WARNING:tensorflow:From C:\\Users\\suizh\\Anaconda3\\lib\\site-packages\\tensorflow\\python\\ops\\resource_variable_ops.py:435: colocate_with (from tensorflow.python.framework.ops) is deprecated and will be removed in a future version.\n",
      "Instructions for updating:\n",
      "Colocations handled automatically by placer.\n"
     ]
    }
   ],
   "source": [
    "from tensorflow.keras.layers import Input, concatenate, Lambda, Reshape, Dense, Dropout, Flatten, Activation, LeakyReLU, Conv2D, UpSampling2D, BatchNormalization\n",
    "from tensorflow.keras.optimizers import Adam\n",
    "from tensorflow.keras.models import Model\n",
    "from tensorflow.keras import backend as K\n",
    "from tqdm import tqdm\n",
    "\n",
    "def Generator():\n",
    "    nch=200\n",
    "    model_input = Input(shape=[100])\n",
    "    cond = Input(shape=[10])\n",
    "    cond_input = concatenate([model_input, cond], axis=-1)\n",
    "    \n",
    "    x = Dense(nch*14*14, kernel_initializer='glorot_normal')(cond_input)\n",
    "    x = BatchNormalization()(x)\n",
    "    x = Activation('relu')(x)\n",
    "    x = Reshape( [14, 14, nch] )(x)\n",
    "    x = UpSampling2D(size=(2, 2))(x)\n",
    "    x = Conv2D(int(nch/2), (3, 3), padding='same', kernel_initializer='glorot_uniform')(x)\n",
    "    x = BatchNormalization()(x)\n",
    "    x = Activation('relu')(x)\n",
    "    x = Conv2D(int(nch/4), (3, 3), padding='same', kernel_initializer='glorot_uniform')(x)\n",
    "    x = BatchNormalization()(x)\n",
    "    x = Activation('relu')(x)\n",
    "    x = Conv2D(1, (1, 1), padding='same', kernel_initializer='glorot_uniform')(x)\n",
    "    model_output = Activation('sigmoid')(x)\n",
    "    model = Model([model_input, cond], model_output)\n",
    "    # model.summary()\n",
    "    \n",
    "    return model\n",
    "\n",
    "def Discriminator(shape, dropout_rate=0.25, opt=Adam(lr=1e-4)):\n",
    "    model_input = Input(shape=shape)\n",
    "    cond = Input(shape=[10])\n",
    "    \n",
    "    cond_reshape = Reshape( [1, 1, 10] )(cond)\n",
    "    cond_reshape = Lambda(lambda x: K.ones([28, 28, 10])*x)(cond_reshape)\n",
    "    cond_input = concatenate([model_input, cond_reshape], axis=-1)\n",
    "    \n",
    "    x = Conv2D(256, (5, 5), padding = 'same', kernel_initializer='glorot_uniform', strides=(2, 2))(cond_input)\n",
    "    x = LeakyReLU(0.2)(x)\n",
    "    x = Dropout(dropout_rate)(x)\n",
    "    x = Conv2D(512, (5, 5), padding = 'same', kernel_initializer='glorot_uniform', strides=(2, 2))(x)\n",
    "    x = LeakyReLU(0.2)(x)\n",
    "    x = Dropout(dropout_rate)(x)\n",
    "    x = Flatten()(x)  \n",
    "    x = Dense(1024)(x)\n",
    "    x = LeakyReLU(0.2)(x)\n",
    "    x = Dense(512)(x)\n",
    "    x = LeakyReLU(0.2)(x)\n",
    "    x = Dense(256)(x)\n",
    "    x = LeakyReLU(0.2)(x)\n",
    "    x = Dropout(dropout_rate)(x)\n",
    "    model_output = Dense(2,activation='softmax')(x)\n",
    "    model = Model([model_input, cond], model_output)\n",
    "    model.compile(loss='categorical_crossentropy', optimizer=opt)\n",
    "    # model.summary()\n",
    "    \n",
    "    return model\n",
    "\n",
    "def combined_network(generator, discriminator, opt=Adam(lr=1e-3)):\n",
    "    gan_input = Input(shape=[100])\n",
    "    cond = Input(shape=[10])\n",
    "    x = generator([gan_input, cond])\n",
    "    gan_output = discriminator([x, cond])\n",
    "    model = Model([gan_input, cond], gan_output)\n",
    "    model.compile(loss='categorical_crossentropy', optimizer=opt)\n",
    "    # model.summary()\n",
    "    \n",
    "    return model\n",
    "\n",
    "\n",
    "def make_trainable(net, val):\n",
    "    net.trainable = val\n",
    "    for l in net.layers:\n",
    "        l.trainable = val\n",
    "        \n",
    "\n",
    "def train(step=10000, BATCH_SIZE=128):\n",
    "\n",
    "    for e in tqdm(range(step)):  \n",
    "        \n",
    "        image_indexes = np.random.randint(0,X_train.shape[0],size=BATCH_SIZE)\n",
    "        image_batch = X_train[image_indexes,:,:,:]  \n",
    "        label_batch = y_train[image_indexes]  \n",
    "        noise_gen = np.random.uniform(0,1,size=[BATCH_SIZE,100])\n",
    "        generated_images = generator.predict([noise_gen, label_batch])\n",
    "        \n",
    "        make_trainable(discriminator,True)\n",
    "        \n",
    "        X = np.concatenate((image_batch, generated_images))\n",
    "        y = np.zeros([2*BATCH_SIZE,2])\n",
    "        y[:BATCH_SIZE,1] = 1\n",
    "        y[BATCH_SIZE:,0] = 1\n",
    "        \n",
    "        label_batch = np.concatenate((label_batch, label_batch))\n",
    "        \n",
    "        discriminator.train_on_batch([X, label_batch], y)\n",
    "        \n",
    "        make_trainable(discriminator,False)\n",
    "    \n",
    "        noise_tr = np.random.uniform(0,1,size=[BATCH_SIZE,100])\n",
    "        y2 = np.zeros([BATCH_SIZE,2])\n",
    "        y2[:,1] = 1\n",
    "        \n",
    "        label_batch2 = np.random.randint(0, 10, size=BATCH_SIZE)\n",
    "        label_batch2 = np.eye(10)[label_batch2]    \n",
    "        \n",
    "        GAN.train_on_batch([noise_tr, label_batch2], y2 )"
   ]
  },
  {
   "cell_type": "code",
   "execution_count": 3,
   "metadata": {},
   "outputs": [
    {
     "name": "stdout",
     "output_type": "stream",
     "text": [
      "WARNING:tensorflow:From C:\\Users\\suizh\\Anaconda3\\lib\\site-packages\\tensorflow\\python\\keras\\layers\\core.py:143: calling dropout (from tensorflow.python.ops.nn_ops) with keep_prob is deprecated and will be removed in a future version.\n",
      "Instructions for updating:\n",
      "Please use `rate` instead of `keep_prob`. Rate should be set to `rate = 1 - keep_prob`.\n"
     ]
    },
    {
     "name": "stderr",
     "output_type": "stream",
     "text": [
      "\r",
      "  0%|                                                                                        | 0/10000 [00:00<?, ?it/s]"
     ]
    },
    {
     "name": "stdout",
     "output_type": "stream",
     "text": [
      "WARNING:tensorflow:From C:\\Users\\suizh\\Anaconda3\\lib\\site-packages\\tensorflow\\python\\ops\\math_ops.py:3066: to_int32 (from tensorflow.python.ops.math_ops) is deprecated and will be removed in a future version.\n",
      "Instructions for updating:\n",
      "Use tf.cast instead.\n"
     ]
    },
    {
     "name": "stderr",
     "output_type": "stream",
     "text": [
      "100%|██████████████████████████████████████████████████████████████████████████| 10000/10000 [4:23:49<00:00,  1.04s/it]\n"
     ]
    }
   ],
   "source": [
    "X_train, _, y_train, _ = load_mnist(data='fashion')\n",
    "generator = Generator()\n",
    "discriminator = Discriminator(X_train.shape[1:])\n",
    "make_trainable(discriminator, False)\n",
    "GAN = combined_network(generator, discriminator)\n",
    "\n",
    "train()"
   ]
  },
  {
   "cell_type": "code",
   "execution_count": 4,
   "metadata": {},
   "outputs": [
    {
     "data": {
      "image/png": "[encoded data removed]",
      "text/plain": [
       "<Figure size 576x288 with 10 Axes>"
      ]
     },
     "metadata": {
      "needs_background": "light"
     },
     "output_type": "display_data"
    }
   ],
   "source": [
    "plot_mnist_conditional(labels=['T-shirt/top', 'Trouser', 'Pullover', 'Dress', 'Coat', 'Sandal', 'Shirt', 'Sneaker', 'Bag', 'Ankle boot'])"
   ]
  },
  {
   "cell_type": "code",
   "execution_count": null,
   "metadata": {},
   "outputs": [],
   "source": []
  }
 ],
 "metadata": {
  "kernelspec": {
   "display_name": "Python 3",
   "language": "python",
   "name": "python3"
  },
  "language_info": {
   "codemirror_mode": {
    "name": "ipython",
    "version": 3
   },
   "file_extension": ".py",
   "mimetype": "text/x-python",
   "name": "python",
   "nbconvert_exporter": "python",
   "pygments_lexer": "ipython3",
   "version": "3.7.3"
  }
 },
 "nbformat": 4,
 "nbformat_minor": 2
}
