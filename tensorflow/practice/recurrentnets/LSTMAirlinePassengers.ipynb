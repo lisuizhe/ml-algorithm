{
 "cells": [
  {
   "cell_type": "code",
   "execution_count": 10,
   "metadata": {},
   "outputs": [],
   "source": [
    "%matplotlib inline\n",
    "\n",
    "import pandas as pd\n",
    "\n",
    "dataframe = pd.read_csv('./data/airline/international-airline-passengers.csv',\n",
    "                        usecols=[1], engine='python', skipfooter=3)\n",
    "dataset = dataframe.values.astype('float32')"
   ]
  },
  {
   "cell_type": "code",
   "execution_count": 11,
   "metadata": {},
   "outputs": [],
   "source": [
    "from sklearn.preprocessing import MinMaxScaler\n",
    "\n",
    "scaler = MinMaxScaler(feature_range=(0, 1))\n",
    "dataset = scaler.fit_transform(dataset)"
   ]
  },
  {
   "cell_type": "code",
   "execution_count": 12,
   "metadata": {},
   "outputs": [],
   "source": [
    "train_size = int(len(dataset) * 0.67)\n",
    "test_size = len(dataset) - train_size\n",
    "train, test = dataset[0:train_size,:], dataset[train_size:len(dataset),:]"
   ]
  },
  {
   "cell_type": "code",
   "execution_count": 13,
   "metadata": {},
   "outputs": [],
   "source": [
    "import numpy as np\n",
    "\n",
    "def create_dataset(dataset, look_back=1):\n",
    "    dataX, dataY = [], []\n",
    "    for i in range(len(dataset)-look_back-1):\n",
    "        a = dataset[i:(i+look_back), 0]\n",
    "        dataX.append(a)\n",
    "        dataY.append(dataset[i + look_back, 0])\n",
    "    return np.array(dataX), np.array(dataY)\n",
    "\n",
    "look_back = 3\n",
    "trainX, trainY = create_dataset(train, look_back)\n",
    "testX, testY = create_dataset(test, look_back)\n",
    "\n",
    "trainX = np.reshape(trainX, (trainX.shape[0], trainX.shape[1], 1))\n",
    "testX = np.reshape(testX, (testX.shape[0], testX.shape[1], 1))"
   ]
  },
  {
   "cell_type": "code",
   "execution_count": 14,
   "metadata": {},
   "outputs": [],
   "source": [
    "from tensorflow.keras.models import Sequential\n",
    "from tensorflow.keras.layers import Dense, Activation, LSTM\n",
    "\n",
    "model = Sequential()\n",
    "\n",
    "model.add(LSTM(4, input_shape=(look_back, 1)))\n",
    "model.add(Dense(1))\n",
    "\n",
    "model.compile(loss='mean_squared_error', optimizer='adam')"
   ]
  },
  {
   "cell_type": "code",
   "execution_count": 15,
   "metadata": {},
   "outputs": [
    {
     "name": "stdout",
     "output_type": "stream",
     "text": [
      "_________________________________________________________________\n",
      "Layer (type)                 Output Shape              Param #   \n",
      "=================================================================\n",
      "lstm_1 (LSTM)                (None, 4)                 96        \n",
      "_________________________________________________________________\n",
      "dense_1 (Dense)              (None, 1)                 5         \n",
      "=================================================================\n",
      "Total params: 101\n",
      "Trainable params: 101\n",
      "Non-trainable params: 0\n",
      "_________________________________________________________________\n"
     ]
    }
   ],
   "source": [
    "model.summary()"
   ]
  },
  {
   "cell_type": "code",
   "execution_count": 16,
   "metadata": {},
   "outputs": [
    {
     "name": "stdout",
     "output_type": "stream",
     "text": [
      "Epoch 1/100\n",
      " - 2s - loss: 0.0102\n",
      "Epoch 2/100\n",
      " - 1s - loss: 0.0058\n",
      "Epoch 3/100\n",
      " - 1s - loss: 0.0049\n",
      "Epoch 4/100\n",
      " - 1s - loss: 0.0043\n",
      "Epoch 5/100\n",
      " - 1s - loss: 0.0039\n",
      "Epoch 6/100\n",
      " - 1s - loss: 0.0038\n",
      "Epoch 7/100\n",
      " - 1s - loss: 0.0037\n",
      "Epoch 8/100\n",
      " - 1s - loss: 0.0035\n",
      "Epoch 9/100\n",
      " - 1s - loss: 0.0034\n",
      "Epoch 10/100\n",
      " - 1s - loss: 0.0035\n",
      "Epoch 11/100\n",
      " - 1s - loss: 0.0035\n",
      "Epoch 12/100\n",
      " - 1s - loss: 0.0034\n",
      "Epoch 13/100\n",
      " - 1s - loss: 0.0034\n",
      "Epoch 14/100\n",
      " - 1s - loss: 0.0034\n",
      "Epoch 15/100\n",
      " - 1s - loss: 0.0034\n",
      "Epoch 16/100\n",
      " - 1s - loss: 0.0035\n",
      "Epoch 17/100\n",
      " - 1s - loss: 0.0033\n",
      "Epoch 18/100\n",
      " - 1s - loss: 0.0034\n",
      "Epoch 19/100\n",
      " - 1s - loss: 0.0034\n",
      "Epoch 20/100\n",
      " - 1s - loss: 0.0033\n",
      "Epoch 21/100\n",
      " - 1s - loss: 0.0034\n",
      "Epoch 22/100\n",
      " - 1s - loss: 0.0034\n",
      "Epoch 23/100\n",
      " - 1s - loss: 0.0034\n",
      "Epoch 24/100\n",
      " - 1s - loss: 0.0032\n",
      "Epoch 25/100\n",
      " - 1s - loss: 0.0034\n",
      "Epoch 26/100\n",
      " - 1s - loss: 0.0033\n",
      "Epoch 27/100\n",
      " - 1s - loss: 0.0034\n",
      "Epoch 28/100\n",
      " - 1s - loss: 0.0033\n",
      "Epoch 29/100\n",
      " - 1s - loss: 0.0032\n",
      "Epoch 30/100\n",
      " - 1s - loss: 0.0032\n",
      "Epoch 31/100\n",
      " - 1s - loss: 0.0033\n",
      "Epoch 32/100\n",
      " - 1s - loss: 0.0032\n",
      "Epoch 33/100\n",
      " - 1s - loss: 0.0033\n",
      "Epoch 34/100\n",
      " - 1s - loss: 0.0032\n",
      "Epoch 35/100\n",
      " - 1s - loss: 0.0031\n",
      "Epoch 36/100\n",
      " - 1s - loss: 0.0031\n",
      "Epoch 37/100\n",
      " - 1s - loss: 0.0031\n",
      "Epoch 38/100\n",
      " - 1s - loss: 0.0031\n",
      "Epoch 39/100\n",
      " - 1s - loss: 0.0031\n",
      "Epoch 40/100\n",
      " - 1s - loss: 0.0031\n",
      "Epoch 41/100\n",
      " - 1s - loss: 0.0031\n",
      "Epoch 42/100\n",
      " - 1s - loss: 0.0031\n",
      "Epoch 43/100\n",
      " - 1s - loss: 0.0030\n",
      "Epoch 44/100\n",
      " - 1s - loss: 0.0030\n",
      "Epoch 45/100\n",
      " - 1s - loss: 0.0029\n",
      "Epoch 46/100\n",
      " - 1s - loss: 0.0030\n",
      "Epoch 47/100\n",
      " - 1s - loss: 0.0030\n",
      "Epoch 48/100\n",
      " - 1s - loss: 0.0030\n",
      "Epoch 49/100\n",
      " - 1s - loss: 0.0030\n",
      "Epoch 50/100\n",
      " - 1s - loss: 0.0029\n",
      "Epoch 51/100\n",
      " - 1s - loss: 0.0031\n",
      "Epoch 52/100\n",
      " - 1s - loss: 0.0029\n",
      "Epoch 53/100\n",
      " - 1s - loss: 0.0030\n",
      "Epoch 54/100\n",
      " - 1s - loss: 0.0029\n",
      "Epoch 55/100\n",
      " - 1s - loss: 0.0029\n",
      "Epoch 56/100\n",
      " - 1s - loss: 0.0029\n",
      "Epoch 57/100\n",
      " - 1s - loss: 0.0029\n",
      "Epoch 58/100\n",
      " - 1s - loss: 0.0028\n",
      "Epoch 59/100\n",
      " - 1s - loss: 0.0028\n",
      "Epoch 60/100\n",
      " - 1s - loss: 0.0030\n",
      "Epoch 61/100\n",
      " - 1s - loss: 0.0029\n",
      "Epoch 62/100\n",
      " - 1s - loss: 0.0028\n",
      "Epoch 63/100\n",
      " - 1s - loss: 0.0027\n",
      "Epoch 64/100\n",
      " - 1s - loss: 0.0028\n",
      "Epoch 65/100\n",
      " - 1s - loss: 0.0027\n",
      "Epoch 66/100\n",
      " - 1s - loss: 0.0027\n",
      "Epoch 67/100\n",
      " - 1s - loss: 0.0027\n",
      "Epoch 68/100\n",
      " - 1s - loss: 0.0026\n",
      "Epoch 69/100\n",
      " - 1s - loss: 0.0029\n",
      "Epoch 70/100\n",
      " - 1s - loss: 0.0027\n",
      "Epoch 71/100\n",
      " - 1s - loss: 0.0027\n",
      "Epoch 72/100\n",
      " - 1s - loss: 0.0027\n",
      "Epoch 73/100\n",
      " - 1s - loss: 0.0025\n",
      "Epoch 74/100\n",
      " - 1s - loss: 0.0026\n",
      "Epoch 75/100\n",
      " - 1s - loss: 0.0026\n",
      "Epoch 76/100\n",
      " - 1s - loss: 0.0025\n",
      "Epoch 77/100\n",
      " - 1s - loss: 0.0025\n",
      "Epoch 78/100\n",
      " - 1s - loss: 0.0025\n",
      "Epoch 79/100\n",
      " - 1s - loss: 0.0025\n",
      "Epoch 80/100\n",
      " - 1s - loss: 0.0025\n",
      "Epoch 81/100\n",
      " - 1s - loss: 0.0024\n",
      "Epoch 82/100\n",
      " - 1s - loss: 0.0025\n",
      "Epoch 83/100\n",
      " - 1s - loss: 0.0024\n",
      "Epoch 84/100\n",
      " - 1s - loss: 0.0024\n",
      "Epoch 85/100\n",
      " - 1s - loss: 0.0024\n",
      "Epoch 86/100\n",
      " - 1s - loss: 0.0024\n",
      "Epoch 87/100\n",
      " - 1s - loss: 0.0024\n",
      "Epoch 88/100\n",
      " - 1s - loss: 0.0025\n",
      "Epoch 89/100\n",
      " - 1s - loss: 0.0024\n",
      "Epoch 90/100\n",
      " - 1s - loss: 0.0024\n",
      "Epoch 91/100\n",
      " - 1s - loss: 0.0023\n",
      "Epoch 92/100\n",
      " - 1s - loss: 0.0023\n",
      "Epoch 93/100\n",
      " - 1s - loss: 0.0023\n",
      "Epoch 94/100\n",
      " - 1s - loss: 0.0022\n",
      "Epoch 95/100\n",
      " - 1s - loss: 0.0023\n",
      "Epoch 96/100\n",
      " - 1s - loss: 0.0022\n",
      "Epoch 97/100\n",
      " - 1s - loss: 0.0022\n",
      "Epoch 98/100\n",
      " - 1s - loss: 0.0022\n",
      "Epoch 99/100\n",
      " - 1s - loss: 0.0022\n",
      "Epoch 100/100\n",
      " - 1s - loss: 0.0022\n"
     ]
    },
    {
     "data": {
      "text/plain": [
       "<tensorflow.python.keras.callbacks.History at 0x177c9272710>"
      ]
     },
     "execution_count": 16,
     "metadata": {},
     "output_type": "execute_result"
    }
   ],
   "source": [
    "model.fit(trainX, trainY, epochs=100, batch_size=1, verbose=2)"
   ]
  },
  {
   "cell_type": "code",
   "execution_count": 17,
   "metadata": {},
   "outputs": [
    {
     "name": "stdout",
     "output_type": "stream",
     "text": [
      "Train RMSE: 23.96\n",
      "Test RMSE: 56.26\n"
     ]
    }
   ],
   "source": [
    "import math\n",
    "from sklearn.metrics import mean_squared_error\n",
    "\n",
    "trainPredict = model.predict(trainX)\n",
    "testPredict = model.predict(testX)\n",
    "\n",
    "trainPredict = scaler.inverse_transform(trainPredict)\n",
    "trainYEnd = scaler.inverse_transform([trainY])\n",
    "testPredict = scaler.inverse_transform(testPredict)\n",
    "testYEnd = scaler.inverse_transform([testY])\n",
    "\n",
    "trainScore = math.sqrt(mean_squared_error(trainYEnd[0], trainPredict[:,0]))\n",
    "print('Train RMSE: %.2f' % (trainScore))\n",
    "testScore = math.sqrt(mean_squared_error(testYEnd[0], testPredict[:,0]))\n",
    "print('Test RMSE: %.2f' % (testScore))"
   ]
  },
  {
   "cell_type": "code",
   "execution_count": 18,
   "metadata": {},
   "outputs": [
    {
     "data": {
      "image/png": "[encoded data removed]",
      "text/plain": [
       "<Figure size 432x288 with 1 Axes>"
      ]
     },
     "metadata": {
      "needs_background": "light"
     },
     "output_type": "display_data"
    }
   ],
   "source": [
    "import matplotlib.pyplot as plt\n",
    "\n",
    "trainPredictPlot = np.empty_like(dataset)\n",
    "trainPredictPlot[:, :] = np.nan\n",
    "trainPredictPlot[look_back:len(trainPredict)+look_back, :] = trainPredict\n",
    "\n",
    "testPredictPlot = np.empty_like(dataset)\n",
    "testPredictPlot[:, :] = np.nan\n",
    "testPredictPlot[len(trainPredict)+(look_back*2)+1:len(dataset)-1, :] = testPredict\n",
    "\n",
    "plt.plot(scaler.inverse_transform(dataset), label='Dataset')\n",
    "plt.plot(trainPredictPlot, label='Prediction under train data')\n",
    "plt.plot(testPredictPlot, label='Prediction under test data')\n",
    "plt.legend()\n",
    "plt.show()"
   ]
  },
  {
   "cell_type": "code",
   "execution_count": 19,
   "metadata": {},
   "outputs": [
    {
     "data": {
      "image/svg+xml": [
       "<svg height=\"191pt\" viewBox=\"0.00 0.00 112.00 191.00\" width=\"112pt\" xmlns=\"http://www.w3.org/2000/svg\" xmlns:xlink=\"http://www.w3.org/1999/xlink\">\n",
       "<g class=\"graph\" id=\"graph0\" transform=\"scale(1 1) rotate(0) translate(4 187)\">\n",
       "<title>G</title>\n",
       "<polygon fill=\"white\" points=\"-4,4 -4,-187 108,-187 108,4 -4,4\" stroke=\"none\"/>\n",
       "<!-- 1612294422992 -->\n",
       "<g class=\"node\" id=\"node1\"><title>1612294422992</title>\n",
       "<polygon fill=\"none\" points=\"3,-73.5 3,-109.5 101,-109.5 101,-73.5 3,-73.5\" stroke=\"black\"/>\n",
       "<text font-family=\"Times New Roman,serif\" font-size=\"14.00\" text-anchor=\"middle\" x=\"52\" y=\"-87.8\">lstm_1: LSTM</text>\n",
       "</g>\n",
       "<!-- 1611783473752 -->\n",
       "<g class=\"node\" id=\"node2\"><title>1611783473752</title>\n",
       "<polygon fill=\"none\" points=\"0,-0.5 0,-36.5 104,-36.5 104,-0.5 0,-0.5\" stroke=\"black\"/>\n",
       "<text font-family=\"Times New Roman,serif\" font-size=\"14.00\" text-anchor=\"middle\" x=\"52\" y=\"-14.8\">dense_1: Dense</text>\n",
       "</g>\n",
       "<!-- 1612294422992&#45;&gt;1611783473752 -->\n",
       "<g class=\"edge\" id=\"edge2\"><title>1612294422992-&gt;1611783473752</title>\n",
       "<path d=\"M52,-73.3129C52,-65.2895 52,-55.5475 52,-46.5691\" fill=\"none\" stroke=\"black\"/>\n",
       "<polygon fill=\"black\" points=\"55.5001,-46.5288 52,-36.5288 48.5001,-46.5289 55.5001,-46.5288\" stroke=\"black\"/>\n",
       "</g>\n",
       "<!-- 1611783474144 -->\n",
       "<g class=\"node\" id=\"node3\"><title>1611783474144</title>\n",
       "<polygon fill=\"none\" points=\"0,-146.5 0,-182.5 104,-182.5 104,-146.5 0,-146.5\" stroke=\"black\"/>\n",
       "<text font-family=\"Times New Roman,serif\" font-size=\"14.00\" text-anchor=\"middle\" x=\"52\" y=\"-160.8\">1611783474144</text>\n",
       "</g>\n",
       "<!-- 1611783474144&#45;&gt;1612294422992 -->\n",
       "<g class=\"edge\" id=\"edge1\"><title>1611783474144-&gt;1612294422992</title>\n",
       "<path d=\"M52,-146.313C52,-138.289 52,-128.547 52,-119.569\" fill=\"none\" stroke=\"black\"/>\n",
       "<polygon fill=\"black\" points=\"55.5001,-119.529 52,-109.529 48.5001,-119.529 55.5001,-119.529\" stroke=\"black\"/>\n",
       "</g>\n",
       "</g>\n",
       "</svg>"
      ],
      "text/plain": [
       "<IPython.core.display.SVG object>"
      ]
     },
     "execution_count": 19,
     "metadata": {},
     "output_type": "execute_result"
    }
   ],
   "source": [
    "from IPython.display import SVG\n",
    "from tensorflow.python.keras.utils.vis_utils import model_to_dot\n",
    "\n",
    "SVG(model_to_dot(model).create(prog='dot', format='svg'))"
   ]
  },
  {
   "cell_type": "code",
   "execution_count": null,
   "metadata": {},
   "outputs": [],
   "source": []
  }
 ],
 "metadata": {
  "kernelspec": {
   "display_name": "Python 3",
   "language": "python",
   "name": "python3"
  },
  "language_info": {
   "codemirror_mode": {
    "name": "ipython",
    "version": 3
   },
   "file_extension": ".py",
   "mimetype": "text/x-python",
   "name": "python",
   "nbconvert_exporter": "python",
   "pygments_lexer": "ipython3",
   "version": "3.7.3"
  }
 },
 "nbformat": 4,
 "nbformat_minor": 2
}
