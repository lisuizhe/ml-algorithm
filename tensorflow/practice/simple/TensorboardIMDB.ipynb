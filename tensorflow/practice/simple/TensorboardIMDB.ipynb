{
 "cells": [
  {
   "cell_type": "code",
   "execution_count": 9,
   "metadata": {},
   "outputs": [],
   "source": [
    "from tensorflow.keras.models import Sequential\n",
    "from tensorflow.keras.layers import Embedding, Conv1D, MaxPooling1D, GlobalMaxPooling1D, Dense\n",
    "from tensorflow.keras.datasets import imdb\n",
    "from tensorflow.keras.preprocessing import sequence"
   ]
  },
  {
   "cell_type": "code",
   "execution_count": 10,
   "metadata": {},
   "outputs": [],
   "source": [
    "max_features = 2000\n",
    "max_len = 500\n",
    "\n",
    "(x_train, y_train), (x_test, y_test) = imdb.load_data(num_words=max_features)\n",
    "x_train = sequence.pad_sequences(x_train, maxlen=max_len)\n",
    "x_test = sequence.pad_sequences(x_test, maxlen=max_len)"
   ]
  },
  {
   "cell_type": "code",
   "execution_count": 11,
   "metadata": {},
   "outputs": [
    {
     "name": "stdout",
     "output_type": "stream",
     "text": [
      "WARNING:tensorflow:From C:\\Users\\suizh\\Anaconda3\\lib\\site-packages\\tensorflow\\python\\ops\\resource_variable_ops.py:435: colocate_with (from tensorflow.python.framework.ops) is deprecated and will be removed in a future version.\n",
      "Instructions for updating:\n",
      "Colocations handled automatically by placer.\n",
      "_________________________________________________________________\n",
      "Layer (type)                 Output Shape              Param #   \n",
      "=================================================================\n",
      "embed (Embedding)            (None, 500, 128)          256000    \n",
      "_________________________________________________________________\n",
      "conv1d (Conv1D)              (None, 494, 32)           28704     \n",
      "_________________________________________________________________\n",
      "max_pooling1d (MaxPooling1D) (None, 98, 32)            0         \n",
      "_________________________________________________________________\n",
      "conv1d_1 (Conv1D)            (None, 92, 32)            7200      \n",
      "_________________________________________________________________\n",
      "global_max_pooling1d (Global (None, 32)                0         \n",
      "_________________________________________________________________\n",
      "dense (Dense)                (None, 1)                 33        \n",
      "=================================================================\n",
      "Total params: 291,937\n",
      "Trainable params: 291,937\n",
      "Non-trainable params: 0\n",
      "_________________________________________________________________\n"
     ]
    }
   ],
   "source": [
    "model = Sequential()\n",
    "model.add(Embedding(max_features, 128, input_length=max_len, name='embed'))\n",
    "model.add(Conv1D(32, 7, activation='relu'))\n",
    "model.add(MaxPooling1D(5))\n",
    "model.add(Conv1D(32, 7, activation='relu'))\n",
    "model.add(GlobalMaxPooling1D())\n",
    "model.add(Dense(1))\n",
    "model.compile(optimizer='rmsprop', loss='binary_crossentropy', metrics=['acc'])\n",
    "model.summary()"
   ]
  },
  {
   "cell_type": "code",
   "execution_count": 13,
   "metadata": {},
   "outputs": [
    {
     "name": "stdout",
     "output_type": "stream",
     "text": [
      "Train on 20000 samples, validate on 5000 samples\n",
      "Epoch 1/20\n",
      "20000/20000 [==============================] - 17s 865us/sample - loss: 0.4694 - acc: 0.8533 - val_loss: 0.4344 - val_acc: 0.8576\n",
      "Epoch 2/20\n",
      "20000/20000 [==============================] - 18s 916us/sample - loss: 0.3965 - acc: 0.8784 - val_loss: 0.4768 - val_acc: 0.8640\n",
      "Epoch 3/20\n",
      "20000/20000 [==============================] - 22s 1ms/sample - loss: 0.3558 - acc: 0.9014 - val_loss: 0.4883 - val_acc: 0.8706\n",
      "Epoch 4/20\n",
      "20000/20000 [==============================] - 23s 1ms/sample - loss: 0.3025 - acc: 0.9201 - val_loss: 0.7388 - val_acc: 0.8386\n",
      "Epoch 5/20\n",
      "20000/20000 [==============================] - 22s 1ms/sample - loss: 0.2518 - acc: 0.9445 - val_loss: 0.8502 - val_acc: 0.8430\n",
      "Epoch 6/20\n",
      "20000/20000 [==============================] - 24s 1ms/sample - loss: 0.2331 - acc: 0.9541 - val_loss: 0.6982 - val_acc: 0.8684\n",
      "Epoch 7/20\n",
      "20000/20000 [==============================] - 26s 1ms/sample - loss: 0.1967 - acc: 0.9683 - val_loss: 0.7827 - val_acc: 0.8684\n",
      "Epoch 8/20\n",
      "20000/20000 [==============================] - 28s 1ms/sample - loss: 0.1667 - acc: 0.9764 - val_loss: 0.8846 - val_acc: 0.8672\n",
      "Epoch 9/20\n",
      "20000/20000 [==============================] - 28s 1ms/sample - loss: 0.1415 - acc: 0.9825 - val_loss: 0.9845 - val_acc: 0.8658\n",
      "Epoch 10/20\n",
      "20000/20000 [==============================] - 31s 2ms/sample - loss: 0.1334 - acc: 0.9882 - val_loss: 1.0484 - val_acc: 0.8636\n",
      "Epoch 11/20\n",
      "20000/20000 [==============================] - 32s 2ms/sample - loss: 0.1278 - acc: 0.9883 - val_loss: 1.1009 - val_acc: 0.8662\n",
      "Epoch 12/20\n",
      "20000/20000 [==============================] - 35s 2ms/sample - loss: 0.1233 - acc: 0.9894 - val_loss: 1.2134 - val_acc: 0.8590\n",
      "Epoch 13/20\n",
      "20000/20000 [==============================] - 37s 2ms/sample - loss: 0.1209 - acc: 0.9888 - val_loss: 1.4750 - val_acc: 0.8450\n",
      "Epoch 14/20\n",
      "20000/20000 [==============================] - 35s 2ms/sample - loss: 0.1176 - acc: 0.9902 - val_loss: 1.1495 - val_acc: 0.8708\n",
      "Epoch 15/20\n",
      "20000/20000 [==============================] - 34s 2ms/sample - loss: 0.1170 - acc: 0.9900 - val_loss: 1.2194 - val_acc: 0.8624\n",
      "Epoch 16/20\n",
      "20000/20000 [==============================] - 39s 2ms/sample - loss: 0.1189 - acc: 0.9900 - val_loss: 1.2199 - val_acc: 0.8662\n",
      "Epoch 17/20\n",
      "20000/20000 [==============================] - 37s 2ms/sample - loss: 0.1109 - acc: 0.9915 - val_loss: 1.2309 - val_acc: 0.8658\n",
      "Epoch 18/20\n",
      "20000/20000 [==============================] - 34s 2ms/sample - loss: 0.1180 - acc: 0.9906 - val_loss: 1.3306 - val_acc: 0.8642\n",
      "Epoch 19/20\n",
      "20000/20000 [==============================] - 35s 2ms/sample - loss: 0.1118 - acc: 0.9918 - val_loss: 1.3142 - val_acc: 0.8650\n",
      "Epoch 20/20\n",
      "20000/20000 [==============================] - 34s 2ms/sample - loss: 0.1101 - acc: 0.9923 - val_loss: 1.3280 - val_acc: 0.8644\n"
     ]
    }
   ],
   "source": [
    "from tensorflow.keras.callbacks import TensorBoard\n",
    "callbacks = [\n",
    "    TensorBoard(log_dir='tensorboard_log_dir', histogram_freq=1)#, embeddings_freq=1)\n",
    "]\n",
    "history = model.fit(x_train, y_train,\n",
    "                    epochs=20,\n",
    "                    batch_size=128,\n",
    "                    validation_split=0.2,\n",
    "                    callbacks=callbacks)"
   ]
  },
  {
   "cell_type": "code",
   "execution_count": null,
   "metadata": {},
   "outputs": [],
   "source": []
  }
 ],
 "metadata": {
  "kernelspec": {
   "display_name": "Python 3",
   "language": "python",
   "name": "python3"
  },
  "language_info": {
   "codemirror_mode": {
    "name": "ipython",
    "version": 3
   },
   "file_extension": ".py",
   "mimetype": "text/x-python",
   "name": "python",
   "nbconvert_exporter": "python",
   "pygments_lexer": "ipython3",
   "version": "3.7.3"
  }
 },
 "nbformat": 4,
 "nbformat_minor": 2
}
